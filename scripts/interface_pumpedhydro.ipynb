{
 "cells": [
  {
   "cell_type": "markdown",
   "metadata": {},
   "source": [
    "# Part III: Role of energy-water storage in Central Asia\n",
    "\n",
    "This tutorial demonstrates the functionality of seasonal pumped hydropower storage (SPHS) in improving water and energy security in Central Asia. We use the open MESSAGEix energy-water model of Central Asia (MESSAGEix-CAS) developed in previous tutorials (part I and II) and run the module for SPHS. This tutorial includes instructions for:\n",
    "- loading the MESSAGEix-CAS Baseline scenario and cloning it\n",
    "- adding SPHS for water and energy storage\n",
    "- postprocessing and visualization of some output results\n",
    "\n",
    "The schematic below shows how the proposed “dual water and energy storage scheme” using SPHS can resolve the mismatch between water availability for electricity generation and irrigation. The size of the arrows indicates the amount of water flow in each season. Red arrows show the discharge of water from dams. HPP: hydropower plant.\n",
    "\n",
    "<img src='_static/water-model.png' style=\"width: 500px;\">\n",
    "\n",
    "For more details please refer to: [Zakeri et al., 2022](https://doi.org/10.1016/j.est.2022.104587), and if you have any questions please contact us (hunt@iiasa.ac.at)."
   ]
  },
  {
   "cell_type": "markdown",
   "metadata": {},
   "source": [
    "## 1. Importing software packages and loading Baseline\n",
    "\n",
    "For running this tutorial, you need to have:\n",
    "- The `message_ix` modeling framework installed sucessfully with a version >= 3.4.0 (see instructions [here](https://docs.messageix.org/en/stable/#getting-started) ).\n",
    "- Updated your code by pulling modifications done for this study from [this fork](https://github.com/behnam-zakeri/message_ix/tree/central-asia-paper).\n",
    "- You have run Part I of the tutorials, i.e, generating a Baseline scenario\n",
    "\n",
    "*Notice*: If you have installed `message_ix` using Anaconda/miniconda, and you are a proficient user of `git` to pull the changes from the abovementioned fork automatically, you can update your code manually. For doing so, you need to copy the following folder and file from the fork and replace the ones on your machine:\n",
    "- `message_ix/model/MESSAGE` [folder](https://github.com/behnam-zakeri/message_ix/tree/central-asia-paper/message_ix/model/MESSAGE), and\n",
    "- `message_ix/models.py` [file](https://github.com/behnam-zakeri/message_ix/tree/central-asia-paper/message_ix/models.py)."
   ]
  },
  {
   "cell_type": "code",
   "execution_count": 40,
   "metadata": {},
   "outputs": [],
   "source": [
    "# Importing required software packages\n",
    "import pandas as pd\n",
    "import ixmp\n",
    "import message_ix\n",
    "from postprocessor import monthly_plot, yearly_plot, cost_emission_plot, compare_three_scenario\n",
    "from utilities import add_share_activity"
   ]
  },
  {
   "cell_type": "code",
   "execution_count": 14,
   "metadata": {},
   "outputs": [],
   "source": [
    "# Specifying your local path to this repository\n",
    "path = r'C:\\Users\\zakeri\\Documents\\Github\\central-asia-storage'"
   ]
  },
  {
   "cell_type": "code",
   "execution_count": 15,
   "metadata": {},
   "outputs": [],
   "source": [
    "# Loading modeling platform (this will link you to your database)\n",
    "mp = ixmp.Platform()"
   ]
  },
  {
   "cell_type": "code",
   "execution_count": 16,
   "metadata": {},
   "outputs": [
    {
     "name": "stderr",
     "output_type": "stream",
     "text": [
      "Existing index sets of 'STORAGE' ['node', 'technology', 'level', 'commodity', 'year', 'time'] do not match ['node', 'technology', 'mode', 'level', 'commodity', 'year', 'time']\n"
     ]
    },
    {
     "data": {
      "text/plain": [
       "15"
      ]
     },
     "execution_count": 16,
     "metadata": {},
     "output_type": "execute_result"
    }
   ],
   "source": [
    "# Loading Baseline scenario\n",
    "model = 'MESSAGEix-CAS'\n",
    "scenario = 'baseline'\n",
    "base = message_ix.Scenario(mp, model, scenario)\n",
    "base.version"
   ]
  },
  {
   "cell_type": "markdown",
   "metadata": {},
   "source": [
    "### 1.1. Water flow model\n",
    "The water flow model is a monthly representation of water flow in Amu Darya and Siri Darya rivers in Central Asia. The model includes:\n",
    "\n",
    "- Upstream water supply\n",
    "- Upstream dams\n",
    "- Spillage from dams\n",
    "- Potential seasonal pumped hydro plants\n",
    "- Downstream dams\n",
    "- Downstream spillage\n",
    "- Downstream water demand\n",
    "\n",
    "Water demand is an input data to the model, and the result of optimization shows the most optimal solution for cascading water through different water supply levels."
   ]
  },
  {
   "cell_type": "code",
   "execution_count": 22,
   "metadata": {},
   "outputs": [
    {
     "data": {
      "text/html": [
       "<div>\n",
       "<style scoped>\n",
       "    .dataframe tbody tr th:only-of-type {\n",
       "        vertical-align: middle;\n",
       "    }\n",
       "\n",
       "    .dataframe tbody tr th {\n",
       "        vertical-align: top;\n",
       "    }\n",
       "\n",
       "    .dataframe thead th {\n",
       "        text-align: right;\n",
       "    }\n",
       "</style>\n",
       "<table border=\"1\" class=\"dataframe\">\n",
       "  <thead>\n",
       "    <tr style=\"text-align: right;\">\n",
       "      <th></th>\n",
       "      <th>node</th>\n",
       "      <th>commodity</th>\n",
       "      <th>level</th>\n",
       "      <th>year</th>\n",
       "      <th>time</th>\n",
       "      <th>value</th>\n",
       "      <th>unit</th>\n",
       "    </tr>\n",
       "  </thead>\n",
       "  <tbody>\n",
       "    <tr>\n",
       "      <th>0</th>\n",
       "      <td>UZB</td>\n",
       "      <td>water-amu</td>\n",
       "      <td>useful</td>\n",
       "      <td>2020</td>\n",
       "      <td>1</td>\n",
       "      <td>0.177778</td>\n",
       "      <td>1000 m3/s</td>\n",
       "    </tr>\n",
       "    <tr>\n",
       "      <th>1</th>\n",
       "      <td>UZB</td>\n",
       "      <td>water-amu</td>\n",
       "      <td>useful</td>\n",
       "      <td>2020</td>\n",
       "      <td>2</td>\n",
       "      <td>0.311111</td>\n",
       "      <td>1000 m3/s</td>\n",
       "    </tr>\n",
       "    <tr>\n",
       "      <th>2</th>\n",
       "      <td>UZB</td>\n",
       "      <td>water-amu</td>\n",
       "      <td>useful</td>\n",
       "      <td>2020</td>\n",
       "      <td>3</td>\n",
       "      <td>0.509179</td>\n",
       "      <td>1000 m3/s</td>\n",
       "    </tr>\n",
       "    <tr>\n",
       "      <th>3</th>\n",
       "      <td>UZB</td>\n",
       "      <td>water-amu</td>\n",
       "      <td>useful</td>\n",
       "      <td>2020</td>\n",
       "      <td>4</td>\n",
       "      <td>0.458696</td>\n",
       "      <td>1000 m3/s</td>\n",
       "    </tr>\n",
       "    <tr>\n",
       "      <th>4</th>\n",
       "      <td>UZB</td>\n",
       "      <td>water-amu</td>\n",
       "      <td>useful</td>\n",
       "      <td>2020</td>\n",
       "      <td>5</td>\n",
       "      <td>0.629227</td>\n",
       "      <td>1000 m3/s</td>\n",
       "    </tr>\n",
       "    <tr>\n",
       "      <th>5</th>\n",
       "      <td>UZB</td>\n",
       "      <td>water-amu</td>\n",
       "      <td>useful</td>\n",
       "      <td>2020</td>\n",
       "      <td>6</td>\n",
       "      <td>0.888406</td>\n",
       "      <td>1000 m3/s</td>\n",
       "    </tr>\n",
       "    <tr>\n",
       "      <th>6</th>\n",
       "      <td>UZB</td>\n",
       "      <td>water-amu</td>\n",
       "      <td>useful</td>\n",
       "      <td>2020</td>\n",
       "      <td>7</td>\n",
       "      <td>1.082367</td>\n",
       "      <td>1000 m3/s</td>\n",
       "    </tr>\n",
       "    <tr>\n",
       "      <th>7</th>\n",
       "      <td>UZB</td>\n",
       "      <td>water-amu</td>\n",
       "      <td>useful</td>\n",
       "      <td>2020</td>\n",
       "      <td>8</td>\n",
       "      <td>0.874638</td>\n",
       "      <td>1000 m3/s</td>\n",
       "    </tr>\n",
       "    <tr>\n",
       "      <th>8</th>\n",
       "      <td>UZB</td>\n",
       "      <td>water-amu</td>\n",
       "      <td>useful</td>\n",
       "      <td>2020</td>\n",
       "      <td>9</td>\n",
       "      <td>0.440821</td>\n",
       "      <td>1000 m3/s</td>\n",
       "    </tr>\n",
       "    <tr>\n",
       "      <th>9</th>\n",
       "      <td>UZB</td>\n",
       "      <td>water-amu</td>\n",
       "      <td>useful</td>\n",
       "      <td>2020</td>\n",
       "      <td>10</td>\n",
       "      <td>0.325121</td>\n",
       "      <td>1000 m3/s</td>\n",
       "    </tr>\n",
       "    <tr>\n",
       "      <th>10</th>\n",
       "      <td>UZB</td>\n",
       "      <td>water-amu</td>\n",
       "      <td>useful</td>\n",
       "      <td>2020</td>\n",
       "      <td>11</td>\n",
       "      <td>0.223671</td>\n",
       "      <td>1000 m3/s</td>\n",
       "    </tr>\n",
       "    <tr>\n",
       "      <th>11</th>\n",
       "      <td>UZB</td>\n",
       "      <td>water-amu</td>\n",
       "      <td>useful</td>\n",
       "      <td>2020</td>\n",
       "      <td>12</td>\n",
       "      <td>0.218116</td>\n",
       "      <td>1000 m3/s</td>\n",
       "    </tr>\n",
       "  </tbody>\n",
       "</table>\n",
       "</div>"
      ],
      "text/plain": [
       "   node  commodity   level  year time     value       unit\n",
       "0   UZB  water-amu  useful  2020    1  0.177778  1000 m3/s\n",
       "1   UZB  water-amu  useful  2020    2  0.311111  1000 m3/s\n",
       "2   UZB  water-amu  useful  2020    3  0.509179  1000 m3/s\n",
       "3   UZB  water-amu  useful  2020    4  0.458696  1000 m3/s\n",
       "4   UZB  water-amu  useful  2020    5  0.629227  1000 m3/s\n",
       "5   UZB  water-amu  useful  2020    6  0.888406  1000 m3/s\n",
       "6   UZB  water-amu  useful  2020    7  1.082367  1000 m3/s\n",
       "7   UZB  water-amu  useful  2020    8  0.874638  1000 m3/s\n",
       "8   UZB  water-amu  useful  2020    9  0.440821  1000 m3/s\n",
       "9   UZB  water-amu  useful  2020   10  0.325121  1000 m3/s\n",
       "10  UZB  water-amu  useful  2020   11  0.223671  1000 m3/s\n",
       "11  UZB  water-amu  useful  2020   12  0.218116  1000 m3/s"
      ]
     },
     "execution_count": 22,
     "metadata": {},
     "output_type": "execute_result"
    }
   ],
   "source": [
    "# Loading input data of water demand and editing is needed\n",
    "parname = 'demand'  \n",
    "commodity = 'water-amu'    # Water from Amu Darya\n",
    "node = 'UZB'\n",
    "yr = 2020\n",
    "\n",
    "# Notice the syntax for filtering\n",
    "table = base.par(parname, {'commodity': commodity, 'node':node, 'year': yr})\n",
    "\n",
    "# See the table (Notice: 'time' labeled as 1 is January and 12 is Decmeber)\n",
    "table"
   ]
  },
  {
   "cell_type": "markdown",
   "metadata": {},
   "source": [
    "## 2. Modeling of water-energy storage\n",
    "The energy-water storage solution is already represented in the model with a combination of three sections:\n",
    "\n",
    "- Charger, to charge water to the reservoir (technology 'pump')\n",
    "- Discharger, to discharge water and generate electricity (technology 'turbine')\n",
    "- Storage reservoir, to store water over different months (technology 'hydro_pump')\n",
    "\n",
    "These three sections are linked (mapped) together through `map_tec_storage`. Traditional reservoir hydropower plants (HPP) are also represented with three sections: inflow, turbne, and dam itself. For checking this, first, we need to load and clone the Baseline scenario."
   ]
  },
  {
   "cell_type": "code",
   "execution_count": 29,
   "metadata": {},
   "outputs": [
    {
     "name": "stderr",
     "output_type": "stream",
     "text": [
      "Existing index sets of 'STORAGE' ['node', 'technology', 'level', 'commodity', 'year', 'time'] do not match ['node', 'technology', 'mode', 'level', 'commodity', 'year', 'time']\n"
     ]
    }
   ],
   "source": [
    "# Cloning the baseline scenario (i.e., making a new version of it for our work)\n",
    "sphs = base.clone(scenario='baseline_sphs', keep_solution=False)"
   ]
  },
  {
   "cell_type": "code",
   "execution_count": 30,
   "metadata": {},
   "outputs": [
    {
     "data": {
      "text/html": [
       "<div>\n",
       "<style scoped>\n",
       "    .dataframe tbody tr th:only-of-type {\n",
       "        vertical-align: middle;\n",
       "    }\n",
       "\n",
       "    .dataframe tbody tr th {\n",
       "        vertical-align: top;\n",
       "    }\n",
       "\n",
       "    .dataframe thead th {\n",
       "        text-align: right;\n",
       "    }\n",
       "</style>\n",
       "<table border=\"1\" class=\"dataframe\">\n",
       "  <thead>\n",
       "    <tr style=\"text-align: right;\">\n",
       "      <th></th>\n",
       "      <th>node</th>\n",
       "      <th>technology</th>\n",
       "      <th>mode</th>\n",
       "      <th>storage_tec</th>\n",
       "      <th>storage_mode</th>\n",
       "      <th>level</th>\n",
       "      <th>commodity</th>\n",
       "      <th>lvl_temporal</th>\n",
       "    </tr>\n",
       "  </thead>\n",
       "  <tbody>\n",
       "    <tr>\n",
       "      <th>0</th>\n",
       "      <td>TJK</td>\n",
       "      <td>pump</td>\n",
       "      <td>M1</td>\n",
       "      <td>hydro_pump</td>\n",
       "      <td>M1</td>\n",
       "      <td>storage</td>\n",
       "      <td>water</td>\n",
       "      <td>subannual</td>\n",
       "    </tr>\n",
       "    <tr>\n",
       "      <th>1</th>\n",
       "      <td>KGZ</td>\n",
       "      <td>pump</td>\n",
       "      <td>M1</td>\n",
       "      <td>hydro_pump</td>\n",
       "      <td>M1</td>\n",
       "      <td>storage</td>\n",
       "      <td>water</td>\n",
       "      <td>subannual</td>\n",
       "    </tr>\n",
       "    <tr>\n",
       "      <th>2</th>\n",
       "      <td>TJK</td>\n",
       "      <td>turbine</td>\n",
       "      <td>M1</td>\n",
       "      <td>hydro_pump</td>\n",
       "      <td>M1</td>\n",
       "      <td>storage</td>\n",
       "      <td>water</td>\n",
       "      <td>subannual</td>\n",
       "    </tr>\n",
       "    <tr>\n",
       "      <th>3</th>\n",
       "      <td>KGZ</td>\n",
       "      <td>turbine</td>\n",
       "      <td>M1</td>\n",
       "      <td>hydro_pump</td>\n",
       "      <td>M1</td>\n",
       "      <td>storage</td>\n",
       "      <td>water</td>\n",
       "      <td>subannual</td>\n",
       "    </tr>\n",
       "    <tr>\n",
       "      <th>4</th>\n",
       "      <td>TJK</td>\n",
       "      <td>inflow_dam</td>\n",
       "      <td>M1</td>\n",
       "      <td>hydro_dam</td>\n",
       "      <td>M1</td>\n",
       "      <td>storage2</td>\n",
       "      <td>water</td>\n",
       "      <td>subannual</td>\n",
       "    </tr>\n",
       "    <tr>\n",
       "      <th>5</th>\n",
       "      <td>KGZ</td>\n",
       "      <td>inflow_dam</td>\n",
       "      <td>M1</td>\n",
       "      <td>hydro_dam</td>\n",
       "      <td>M1</td>\n",
       "      <td>storage2</td>\n",
       "      <td>water</td>\n",
       "      <td>subannual</td>\n",
       "    </tr>\n",
       "    <tr>\n",
       "      <th>6</th>\n",
       "      <td>TJK</td>\n",
       "      <td>turbine_dam</td>\n",
       "      <td>M1</td>\n",
       "      <td>hydro_dam</td>\n",
       "      <td>M1</td>\n",
       "      <td>storage2</td>\n",
       "      <td>water</td>\n",
       "      <td>subannual</td>\n",
       "    </tr>\n",
       "    <tr>\n",
       "      <th>7</th>\n",
       "      <td>KGZ</td>\n",
       "      <td>turbine_dam</td>\n",
       "      <td>M1</td>\n",
       "      <td>hydro_dam</td>\n",
       "      <td>M1</td>\n",
       "      <td>storage2</td>\n",
       "      <td>water</td>\n",
       "      <td>subannual</td>\n",
       "    </tr>\n",
       "  </tbody>\n",
       "</table>\n",
       "</div>"
      ],
      "text/plain": [
       "  node   technology mode storage_tec storage_mode     level commodity  \\\n",
       "0  TJK         pump   M1  hydro_pump           M1   storage     water   \n",
       "1  KGZ         pump   M1  hydro_pump           M1   storage     water   \n",
       "2  TJK      turbine   M1  hydro_pump           M1   storage     water   \n",
       "3  KGZ      turbine   M1  hydro_pump           M1   storage     water   \n",
       "4  TJK   inflow_dam   M1   hydro_dam           M1  storage2     water   \n",
       "5  KGZ   inflow_dam   M1   hydro_dam           M1  storage2     water   \n",
       "6  TJK  turbine_dam   M1   hydro_dam           M1  storage2     water   \n",
       "7  KGZ  turbine_dam   M1   hydro_dam           M1  storage2     water   \n",
       "\n",
       "  lvl_temporal  \n",
       "0    subannual  \n",
       "1    subannual  \n",
       "2    subannual  \n",
       "3    subannual  \n",
       "4    subannual  \n",
       "5    subannual  \n",
       "6    subannual  \n",
       "7    subannual  "
      ]
     },
     "execution_count": 30,
     "metadata": {},
     "output_type": "execute_result"
    }
   ],
   "source": [
    "# Loading the content of map_tec_storage\n",
    "sphs.set('map_tec_storage')"
   ]
  },
  {
   "cell_type": "markdown",
   "metadata": {},
   "source": [
    "### 2.1 Water supply\n",
    "Water supply is represented as bounded flow in different months. This can be modeled in `message_ix` using parameter `bound_activity_up`. In fact, we specify upper bound of water flow in each month, and the model can find the best solution for storing or cascading water for meeting the water and energy demand. Water flow is represented as technology in the model. For the full list of technology names refer to \"Definitions\" in the Excel files."
   ]
  },
  {
   "cell_type": "code",
   "execution_count": 28,
   "metadata": {},
   "outputs": [
    {
     "data": {
      "text/html": [
       "<div>\n",
       "<style scoped>\n",
       "    .dataframe tbody tr th:only-of-type {\n",
       "        vertical-align: middle;\n",
       "    }\n",
       "\n",
       "    .dataframe tbody tr th {\n",
       "        vertical-align: top;\n",
       "    }\n",
       "\n",
       "    .dataframe thead th {\n",
       "        text-align: right;\n",
       "    }\n",
       "</style>\n",
       "<table border=\"1\" class=\"dataframe\">\n",
       "  <thead>\n",
       "    <tr style=\"text-align: right;\">\n",
       "      <th></th>\n",
       "      <th>node_loc</th>\n",
       "      <th>technology</th>\n",
       "      <th>year_act</th>\n",
       "      <th>mode</th>\n",
       "      <th>time</th>\n",
       "      <th>value</th>\n",
       "      <th>unit</th>\n",
       "    </tr>\n",
       "  </thead>\n",
       "  <tbody>\n",
       "    <tr>\n",
       "      <th>0</th>\n",
       "      <td>TJK</td>\n",
       "      <td>inflow_up_amu</td>\n",
       "      <td>2020</td>\n",
       "      <td>M1</td>\n",
       "      <td>1</td>\n",
       "      <td>0.063002</td>\n",
       "      <td>1000 m3/s</td>\n",
       "    </tr>\n",
       "    <tr>\n",
       "      <th>1</th>\n",
       "      <td>TJK</td>\n",
       "      <td>inflow_up_amu</td>\n",
       "      <td>2020</td>\n",
       "      <td>M1</td>\n",
       "      <td>2</td>\n",
       "      <td>0.042888</td>\n",
       "      <td>1000 m3/s</td>\n",
       "    </tr>\n",
       "    <tr>\n",
       "      <th>2</th>\n",
       "      <td>TJK</td>\n",
       "      <td>inflow_up_amu</td>\n",
       "      <td>2020</td>\n",
       "      <td>M1</td>\n",
       "      <td>3</td>\n",
       "      <td>0.036376</td>\n",
       "      <td>1000 m3/s</td>\n",
       "    </tr>\n",
       "    <tr>\n",
       "      <th>3</th>\n",
       "      <td>TJK</td>\n",
       "      <td>inflow_up_amu</td>\n",
       "      <td>2020</td>\n",
       "      <td>M1</td>\n",
       "      <td>4</td>\n",
       "      <td>0.216540</td>\n",
       "      <td>1000 m3/s</td>\n",
       "    </tr>\n",
       "    <tr>\n",
       "      <th>4</th>\n",
       "      <td>TJK</td>\n",
       "      <td>inflow_up_amu</td>\n",
       "      <td>2020</td>\n",
       "      <td>M1</td>\n",
       "      <td>5</td>\n",
       "      <td>0.622320</td>\n",
       "      <td>1000 m3/s</td>\n",
       "    </tr>\n",
       "    <tr>\n",
       "      <th>5</th>\n",
       "      <td>TJK</td>\n",
       "      <td>inflow_up_amu</td>\n",
       "      <td>2020</td>\n",
       "      <td>M1</td>\n",
       "      <td>6</td>\n",
       "      <td>0.849944</td>\n",
       "      <td>1000 m3/s</td>\n",
       "    </tr>\n",
       "    <tr>\n",
       "      <th>6</th>\n",
       "      <td>TJK</td>\n",
       "      <td>inflow_up_amu</td>\n",
       "      <td>2020</td>\n",
       "      <td>M1</td>\n",
       "      <td>7</td>\n",
       "      <td>1.996079</td>\n",
       "      <td>1000 m3/s</td>\n",
       "    </tr>\n",
       "    <tr>\n",
       "      <th>7</th>\n",
       "      <td>TJK</td>\n",
       "      <td>inflow_up_amu</td>\n",
       "      <td>2020</td>\n",
       "      <td>M1</td>\n",
       "      <td>8</td>\n",
       "      <td>0.500573</td>\n",
       "      <td>1000 m3/s</td>\n",
       "    </tr>\n",
       "    <tr>\n",
       "      <th>8</th>\n",
       "      <td>TJK</td>\n",
       "      <td>inflow_up_amu</td>\n",
       "      <td>2020</td>\n",
       "      <td>M1</td>\n",
       "      <td>9</td>\n",
       "      <td>0.307604</td>\n",
       "      <td>1000 m3/s</td>\n",
       "    </tr>\n",
       "    <tr>\n",
       "      <th>9</th>\n",
       "      <td>TJK</td>\n",
       "      <td>inflow_up_amu</td>\n",
       "      <td>2020</td>\n",
       "      <td>M1</td>\n",
       "      <td>10</td>\n",
       "      <td>0.221020</td>\n",
       "      <td>1000 m3/s</td>\n",
       "    </tr>\n",
       "    <tr>\n",
       "      <th>10</th>\n",
       "      <td>TJK</td>\n",
       "      <td>inflow_up_amu</td>\n",
       "      <td>2020</td>\n",
       "      <td>M1</td>\n",
       "      <td>11</td>\n",
       "      <td>0.154790</td>\n",
       "      <td>1000 m3/s</td>\n",
       "    </tr>\n",
       "    <tr>\n",
       "      <th>11</th>\n",
       "      <td>TJK</td>\n",
       "      <td>inflow_up_amu</td>\n",
       "      <td>2020</td>\n",
       "      <td>M1</td>\n",
       "      <td>12</td>\n",
       "      <td>0.104306</td>\n",
       "      <td>1000 m3/s</td>\n",
       "    </tr>\n",
       "  </tbody>\n",
       "</table>\n",
       "</div>"
      ],
      "text/plain": [
       "   node_loc     technology  year_act mode time     value       unit\n",
       "0       TJK  inflow_up_amu      2020   M1    1  0.063002  1000 m3/s\n",
       "1       TJK  inflow_up_amu      2020   M1    2  0.042888  1000 m3/s\n",
       "2       TJK  inflow_up_amu      2020   M1    3  0.036376  1000 m3/s\n",
       "3       TJK  inflow_up_amu      2020   M1    4  0.216540  1000 m3/s\n",
       "4       TJK  inflow_up_amu      2020   M1    5  0.622320  1000 m3/s\n",
       "5       TJK  inflow_up_amu      2020   M1    6  0.849944  1000 m3/s\n",
       "6       TJK  inflow_up_amu      2020   M1    7  1.996079  1000 m3/s\n",
       "7       TJK  inflow_up_amu      2020   M1    8  0.500573  1000 m3/s\n",
       "8       TJK  inflow_up_amu      2020   M1    9  0.307604  1000 m3/s\n",
       "9       TJK  inflow_up_amu      2020   M1   10  0.221020  1000 m3/s\n",
       "10      TJK  inflow_up_amu      2020   M1   11  0.154790  1000 m3/s\n",
       "11      TJK  inflow_up_amu      2020   M1   12  0.104306  1000 m3/s"
      ]
     },
     "execution_count": 28,
     "metadata": {},
     "output_type": "execute_result"
    }
   ],
   "source": [
    "# Checking the data of water supply\n",
    "tec = \"inflow_up_amu\"    # inflow upstream Amu Darya\n",
    "node = \"TJK\"\n",
    "table = sphs.par(\"bound_activity_up\", {\"technology\": tec, \"node_loc\": node, \"year_act\": 2020})\n",
    "table"
   ]
  },
  {
   "cell_type": "markdown",
   "metadata": {},
   "source": [
    "### 2.2. Activating seasonal pumped hydro\n",
    "By default, SPHS is deactivated by adding a bound. This means that the model does not invest on this technology in Baseline. However, to investigate the role of SPHS, we remove the bound and let the model decide if this technology can be useful for the system or not. For removing the bound, we need to check out the scenario for editing."
   ]
  },
  {
   "cell_type": "code",
   "execution_count": 32,
   "metadata": {},
   "outputs": [],
   "source": [
    "# Checking out the scenario (= opening the scenario for editing)\n",
    "sphs.check_out()"
   ]
  },
  {
   "cell_type": "code",
   "execution_count": 34,
   "metadata": {},
   "outputs": [
    {
     "data": {
      "text/html": [
       "<div>\n",
       "<style scoped>\n",
       "    .dataframe tbody tr th:only-of-type {\n",
       "        vertical-align: middle;\n",
       "    }\n",
       "\n",
       "    .dataframe tbody tr th {\n",
       "        vertical-align: top;\n",
       "    }\n",
       "\n",
       "    .dataframe thead th {\n",
       "        text-align: right;\n",
       "    }\n",
       "</style>\n",
       "<table border=\"1\" class=\"dataframe\">\n",
       "  <thead>\n",
       "    <tr style=\"text-align: right;\">\n",
       "      <th></th>\n",
       "      <th>node_loc</th>\n",
       "      <th>technology</th>\n",
       "      <th>year_act</th>\n",
       "      <th>mode</th>\n",
       "      <th>time</th>\n",
       "      <th>value</th>\n",
       "      <th>unit</th>\n",
       "    </tr>\n",
       "  </thead>\n",
       "  <tbody>\n",
       "    <tr>\n",
       "      <th>0</th>\n",
       "      <td>TJK</td>\n",
       "      <td>turbine</td>\n",
       "      <td>2020</td>\n",
       "      <td>M1</td>\n",
       "      <td>1</td>\n",
       "      <td>0.0</td>\n",
       "      <td>-</td>\n",
       "    </tr>\n",
       "    <tr>\n",
       "      <th>1</th>\n",
       "      <td>TJK</td>\n",
       "      <td>turbine</td>\n",
       "      <td>2020</td>\n",
       "      <td>M1</td>\n",
       "      <td>2</td>\n",
       "      <td>0.0</td>\n",
       "      <td>-</td>\n",
       "    </tr>\n",
       "    <tr>\n",
       "      <th>2</th>\n",
       "      <td>TJK</td>\n",
       "      <td>turbine</td>\n",
       "      <td>2020</td>\n",
       "      <td>M1</td>\n",
       "      <td>3</td>\n",
       "      <td>0.0</td>\n",
       "      <td>-</td>\n",
       "    </tr>\n",
       "    <tr>\n",
       "      <th>3</th>\n",
       "      <td>TJK</td>\n",
       "      <td>turbine</td>\n",
       "      <td>2020</td>\n",
       "      <td>M1</td>\n",
       "      <td>4</td>\n",
       "      <td>0.0</td>\n",
       "      <td>-</td>\n",
       "    </tr>\n",
       "    <tr>\n",
       "      <th>4</th>\n",
       "      <td>TJK</td>\n",
       "      <td>turbine</td>\n",
       "      <td>2020</td>\n",
       "      <td>M1</td>\n",
       "      <td>5</td>\n",
       "      <td>0.0</td>\n",
       "      <td>-</td>\n",
       "    </tr>\n",
       "    <tr>\n",
       "      <th>5</th>\n",
       "      <td>TJK</td>\n",
       "      <td>turbine</td>\n",
       "      <td>2020</td>\n",
       "      <td>M1</td>\n",
       "      <td>6</td>\n",
       "      <td>0.0</td>\n",
       "      <td>-</td>\n",
       "    </tr>\n",
       "    <tr>\n",
       "      <th>6</th>\n",
       "      <td>TJK</td>\n",
       "      <td>turbine</td>\n",
       "      <td>2020</td>\n",
       "      <td>M1</td>\n",
       "      <td>7</td>\n",
       "      <td>0.0</td>\n",
       "      <td>-</td>\n",
       "    </tr>\n",
       "    <tr>\n",
       "      <th>7</th>\n",
       "      <td>TJK</td>\n",
       "      <td>turbine</td>\n",
       "      <td>2020</td>\n",
       "      <td>M1</td>\n",
       "      <td>8</td>\n",
       "      <td>0.0</td>\n",
       "      <td>-</td>\n",
       "    </tr>\n",
       "    <tr>\n",
       "      <th>8</th>\n",
       "      <td>TJK</td>\n",
       "      <td>turbine</td>\n",
       "      <td>2020</td>\n",
       "      <td>M1</td>\n",
       "      <td>9</td>\n",
       "      <td>0.0</td>\n",
       "      <td>-</td>\n",
       "    </tr>\n",
       "    <tr>\n",
       "      <th>9</th>\n",
       "      <td>TJK</td>\n",
       "      <td>turbine</td>\n",
       "      <td>2020</td>\n",
       "      <td>M1</td>\n",
       "      <td>10</td>\n",
       "      <td>0.0</td>\n",
       "      <td>-</td>\n",
       "    </tr>\n",
       "    <tr>\n",
       "      <th>10</th>\n",
       "      <td>TJK</td>\n",
       "      <td>turbine</td>\n",
       "      <td>2020</td>\n",
       "      <td>M1</td>\n",
       "      <td>11</td>\n",
       "      <td>0.0</td>\n",
       "      <td>-</td>\n",
       "    </tr>\n",
       "    <tr>\n",
       "      <th>11</th>\n",
       "      <td>TJK</td>\n",
       "      <td>turbine</td>\n",
       "      <td>2020</td>\n",
       "      <td>M1</td>\n",
       "      <td>12</td>\n",
       "      <td>0.0</td>\n",
       "      <td>-</td>\n",
       "    </tr>\n",
       "  </tbody>\n",
       "</table>\n",
       "</div>"
      ],
      "text/plain": [
       "   node_loc technology  year_act mode time  value unit\n",
       "0       TJK    turbine      2020   M1    1    0.0    -\n",
       "1       TJK    turbine      2020   M1    2    0.0    -\n",
       "2       TJK    turbine      2020   M1    3    0.0    -\n",
       "3       TJK    turbine      2020   M1    4    0.0    -\n",
       "4       TJK    turbine      2020   M1    5    0.0    -\n",
       "5       TJK    turbine      2020   M1    6    0.0    -\n",
       "6       TJK    turbine      2020   M1    7    0.0    -\n",
       "7       TJK    turbine      2020   M1    8    0.0    -\n",
       "8       TJK    turbine      2020   M1    9    0.0    -\n",
       "9       TJK    turbine      2020   M1   10    0.0    -\n",
       "10      TJK    turbine      2020   M1   11    0.0    -\n",
       "11      TJK    turbine      2020   M1   12    0.0    -"
      ]
     },
     "execution_count": 34,
     "metadata": {},
     "output_type": "execute_result"
    }
   ],
   "source": [
    "# Loading upper bound on a technology\n",
    "tec = 'turbine'    # Turbine section of SPHS\n",
    "node = 'TJK'\n",
    "parname = 'bound_activity_up'\n",
    "table = sphs.par(parname, {'technology': tec, 'node_loc': node})\n",
    "# see the table\n",
    "table"
   ]
  },
  {
   "cell_type": "code",
   "execution_count": 35,
   "metadata": {},
   "outputs": [],
   "source": [
    "# Removing the bound on SPHS\n",
    "sphs.remove_par('bound_activity_up', table)"
   ]
  },
  {
   "cell_type": "code",
   "execution_count": 37,
   "metadata": {},
   "outputs": [],
   "source": [
    "# Committing the changes (saving and checking in the scenario)\n",
    "# You can add a commit message as you wish:\n",
    "sphs.commit('bound of SPHS removed')"
   ]
  },
  {
   "cell_type": "markdown",
   "metadata": {
    "collapsed": true
   },
   "source": [
    "### 2.3. Solving the scenario\n",
    "After committing the changes, we are ready to solve the scenario. Solving the scenario means sending the input data from the database to GAMS formulation in the form of GDX files, solving the mathematical formulation, and retrieving the output results (MESSAGEix variables) back to the database."
   ]
  },
  {
   "cell_type": "code",
   "execution_count": 38,
   "metadata": {},
   "outputs": [],
   "source": [
    "# Solving the scenario\n",
    "sphs.solve(solve_options={'lpmethod': '4'})"
   ]
  },
  {
   "cell_type": "markdown",
   "metadata": {},
   "source": [
    "### 2.4. Comparing results of two scenarios\n",
    "We can visualize some output results both on the sub-annual and yearly basis. For example, we can check the activity or capacity of \"turbine\" technology, for which we changed some input data."
   ]
  },
  {
   "cell_type": "code",
   "execution_count": 39,
   "metadata": {},
   "outputs": [
    {
     "data": {
      "text/html": [
       "<div>\n",
       "<style scoped>\n",
       "    .dataframe tbody tr th:only-of-type {\n",
       "        vertical-align: middle;\n",
       "    }\n",
       "\n",
       "    .dataframe tbody tr th {\n",
       "        vertical-align: top;\n",
       "    }\n",
       "\n",
       "    .dataframe thead th {\n",
       "        text-align: right;\n",
       "    }\n",
       "</style>\n",
       "<table border=\"1\" class=\"dataframe\">\n",
       "  <thead>\n",
       "    <tr style=\"text-align: right;\">\n",
       "      <th></th>\n",
       "      <th>Baseline Scenario</th>\n",
       "      <th>SPHS Scenario</th>\n",
       "    </tr>\n",
       "    <tr>\n",
       "      <th>year_act</th>\n",
       "      <th></th>\n",
       "      <th></th>\n",
       "    </tr>\n",
       "  </thead>\n",
       "  <tbody>\n",
       "    <tr>\n",
       "      <th>1990</th>\n",
       "      <td>0.000000</td>\n",
       "      <td>0.000000</td>\n",
       "    </tr>\n",
       "    <tr>\n",
       "      <th>1995</th>\n",
       "      <td>0.000000</td>\n",
       "      <td>0.000000</td>\n",
       "    </tr>\n",
       "    <tr>\n",
       "      <th>2000</th>\n",
       "      <td>0.000000</td>\n",
       "      <td>0.000000</td>\n",
       "    </tr>\n",
       "    <tr>\n",
       "      <th>2005</th>\n",
       "      <td>0.000000</td>\n",
       "      <td>0.000000</td>\n",
       "    </tr>\n",
       "    <tr>\n",
       "      <th>2010</th>\n",
       "      <td>0.000000</td>\n",
       "      <td>0.000000</td>\n",
       "    </tr>\n",
       "    <tr>\n",
       "      <th>2015</th>\n",
       "      <td>0.000000</td>\n",
       "      <td>0.000000</td>\n",
       "    </tr>\n",
       "    <tr>\n",
       "      <th>2020</th>\n",
       "      <td>0.145777</td>\n",
       "      <td>0.337071</td>\n",
       "    </tr>\n",
       "    <tr>\n",
       "      <th>2025</th>\n",
       "      <td>1.989518</td>\n",
       "      <td>2.424957</td>\n",
       "    </tr>\n",
       "    <tr>\n",
       "      <th>2030</th>\n",
       "      <td>1.991550</td>\n",
       "      <td>2.426989</td>\n",
       "    </tr>\n",
       "    <tr>\n",
       "      <th>2035</th>\n",
       "      <td>2.999050</td>\n",
       "      <td>2.999050</td>\n",
       "    </tr>\n",
       "    <tr>\n",
       "      <th>2040</th>\n",
       "      <td>2.999050</td>\n",
       "      <td>2.999050</td>\n",
       "    </tr>\n",
       "    <tr>\n",
       "      <th>2045</th>\n",
       "      <td>2.999050</td>\n",
       "      <td>2.999050</td>\n",
       "    </tr>\n",
       "    <tr>\n",
       "      <th>2050</th>\n",
       "      <td>2.999050</td>\n",
       "      <td>2.999050</td>\n",
       "    </tr>\n",
       "    <tr>\n",
       "      <th>2055</th>\n",
       "      <td>2.999050</td>\n",
       "      <td>2.999050</td>\n",
       "    </tr>\n",
       "    <tr>\n",
       "      <th>2060</th>\n",
       "      <td>2.999050</td>\n",
       "      <td>2.999050</td>\n",
       "    </tr>\n",
       "  </tbody>\n",
       "</table>\n",
       "</div>"
      ],
      "text/plain": [
       "          Baseline Scenario  SPHS Scenario\n",
       "year_act                                  \n",
       "1990               0.000000       0.000000\n",
       "1995               0.000000       0.000000\n",
       "2000               0.000000       0.000000\n",
       "2005               0.000000       0.000000\n",
       "2010               0.000000       0.000000\n",
       "2015               0.000000       0.000000\n",
       "2020               0.145777       0.337071\n",
       "2025               1.989518       2.424957\n",
       "2030               1.991550       2.426989\n",
       "2035               2.999050       2.999050\n",
       "2040               2.999050       2.999050\n",
       "2045               2.999050       2.999050\n",
       "2050               2.999050       2.999050\n",
       "2055               2.999050       2.999050\n",
       "2060               2.999050       2.999050"
      ]
     },
     "execution_count": 39,
     "metadata": {},
     "output_type": "execute_result"
    }
   ],
   "source": [
    "# Comparing activity of solar PV plant between the two scenario\n",
    "tec = 'turbine'     # Turbine (electricity generator) part of SPHS\n",
    "node = 'TJK'\n",
    "variable = 'CAP'    # Total installed cpacity\n",
    "out = pd.DataFrame()\n",
    "out[\"Baseline Scenario\"] = base.var(variable, {\"node_loc\": node, \"technology\": tec}\n",
    "                                   ).groupby([\"year_act\"]).sum()[\"lvl\"]\n",
    "out[\"SPHS Scenario\"] = sphs.var(variable, {\"node_loc\": node, \"technology\": tec}\n",
    "                               ).groupby([\"year_act\"]).sum()[\"lvl\"]\n",
    "out"
   ]
  },
  {
   "cell_type": "markdown",
   "metadata": {},
   "source": [
    "The output shows that the Central Asian model has invested on SPHS, e.g., up to ~3 GW in Tajikistan, as a cost-optimal solution for the water-energy demand in the region. For the assumptions on the costs and other parameters, please refer to the input data Excel files. "
   ]
  },
  {
   "cell_type": "markdown",
   "metadata": {},
   "source": [
    "## 3. Pumped hydro storage and renewable energy integration\n",
    "In this part, we add renewable energy targets to the scenarios. We add a target of 50% renewable energy in the electricity generation mix for each country in Central Asia by 2050. Once we add this target to the Baseline scenario, which does not have the option to build SPHS. Next, we add the same renewable energy target to our SPHS scenario (`pumped_hydro`), in which the model can build SPHS. Then, we compare the results of the two scenarios, i.e., without and with SPHS to understand what role SPHS can play in this context. "
   ]
  },
  {
   "cell_type": "code",
   "execution_count": 6,
   "metadata": {},
   "outputs": [
    {
     "name": "stderr",
     "output_type": "stream",
     "text": [
      "Existing index sets of 'STORAGE' ['node', 'technology', 'level', 'commodity', 'year', 'time'] do not match ['node', 'technology', 'mode', 'level', 'commodity', 'year', 'time']\n"
     ]
    }
   ],
   "source": [
    "# Cloning Baseline for adding renewable shares (without SPHS)\n",
    "scen_re = base.clone(scenario=\"renewable_policy\", keep_solution=False)\n",
    "scen_re.check_out()"
   ]
  },
  {
   "cell_type": "markdown",
   "metadata": {},
   "source": [
    "### 3.1 Adding share of renewable electricity\n",
    "Please refer to Part II of the tutorial to learn how we add renewable shares in more details. We use technology category of `renewable_powerplant` including renewables like wind, solar, hydro, biomass, etc. To see technologies under each category, you can use `cat_tec` as follows."
   ]
  },
  {
   "cell_type": "code",
   "execution_count": 41,
   "metadata": {},
   "outputs": [
    {
     "ename": "NameError",
     "evalue": "name 'scen_re' is not defined",
     "output_type": "error",
     "traceback": [
      "\u001b[1;31m---------------------------------------------------------------------------\u001b[0m",
      "\u001b[1;31mNameError\u001b[0m                                 Traceback (most recent call last)",
      "\u001b[1;32m<ipython-input-41-a96f3430cb16>\u001b[0m in \u001b[0;36m<module>\u001b[1;34m\u001b[0m\n\u001b[0;32m      1\u001b[0m \u001b[1;31m# Lisitng technologies under each category\u001b[0m\u001b[1;33m\u001b[0m\u001b[1;33m\u001b[0m\u001b[1;33m\u001b[0m\u001b[0m\n\u001b[1;32m----> 2\u001b[1;33m \u001b[0mcat\u001b[0m \u001b[1;33m=\u001b[0m \u001b[0mscen_re\u001b[0m\u001b[1;33m.\u001b[0m\u001b[0mset\u001b[0m\u001b[1;33m(\u001b[0m\u001b[1;34m\"cat_tec\"\u001b[0m\u001b[1;33m)\u001b[0m\u001b[1;33m\u001b[0m\u001b[1;33m\u001b[0m\u001b[0m\n\u001b[0m\u001b[0;32m      3\u001b[0m \u001b[1;33m\u001b[0m\u001b[0m\n\u001b[0;32m      4\u001b[0m \u001b[1;31m# Technologies under \"renewable powerplant\"\u001b[0m\u001b[1;33m\u001b[0m\u001b[1;33m\u001b[0m\u001b[1;33m\u001b[0m\u001b[0m\n\u001b[0;32m      5\u001b[0m tec_share = sorted(list(set(cat.loc[cat[\"type_tec\"] == \"renewable_powerplant\"\n",
      "\u001b[1;31mNameError\u001b[0m: name 'scen_re' is not defined"
     ]
    }
   ],
   "source": [
    "# Lisitng technologies under each category\n",
    "cat = scen_re.set(\"cat_tec\")\n",
    "\n",
    "# Technologies under \"renewable powerplant\"\n",
    "tec_share = sorted(list(set(cat.loc[cat[\"type_tec\"] == \"renewable_powerplant\"\n",
    "                                ][\"technology\"])))\n",
    "# Technologies under \"powerplant\"\n",
    "tec_total = sorted(list(set(cat.loc[cat[\"type_tec\"] == \"powerplant\"\n",
    "                                ][\"technology\"])))\n",
    "tec_share"
   ]
  },
  {
   "cell_type": "markdown",
   "metadata": {},
   "source": [
    "Share of renewables in total electricity generation can be specified per model region and year. We add this share in all countries for different years, reaching 50% of total in 2050. We use the utility function `add_share_activity` for this purpose. "
   ]
  },
  {
   "cell_type": "code",
   "execution_count": 10,
   "metadata": {},
   "outputs": [],
   "source": [
    "# Adding renewable share for Kazakhstan\n",
    "relation=\"share_renewable\"\n",
    "regions = [\"KAZ\", \"KGZ\", \"TJK\", \"TKM\", \"UZB\"]\n",
    "shares = {2025: 0.08, 2030: 0.18, 2035: 0.28, 2040: 0.34, 2045: 0.43, 2050: 0.50}\n",
    "\n",
    "# Calling function for adding the share\n",
    "add_share_activity(scen_re,\n",
    "                   relation,            # A relation name\n",
    "                   tec_share,             # Technologies formig the share (nominator)\n",
    "                   tec_total,             # Technologies formig the total (denaminator)\n",
    "                   shares,                # A dictionary of shares per year\n",
    "                   regions,               # Regions for applying the share\n",
    "                  )"
   ]
  },
  {
   "cell_type": "code",
   "execution_count": 11,
   "metadata": {},
   "outputs": [],
   "source": [
    "# Saving changes and solving the scenario\n",
    "scen_re.commit(\"changes saved!\")\n",
    "scen_re.solve(solve_options={'lpmethod': '4'})"
   ]
  },
  {
   "cell_type": "code",
   "execution_count": null,
   "metadata": {},
   "outputs": [],
   "source": [
    "# Visualizing the results\n",
    "yearly_plot(scen_re, path, \"activity\")"
   ]
  },
  {
   "cell_type": "markdown",
   "metadata": {},
   "source": [
    "Now, we add the same renewable share to a scenario with SPHS."
   ]
  },
  {
   "cell_type": "code",
   "execution_count": null,
   "metadata": {},
   "outputs": [],
   "source": [
    "# Cloning a baseline scenario with SPHS for adding renewable shares\n",
    "sphs_re = sphs.clone(scenario=\"renewable_policy_sphs\", keep_solution=False)\n",
    "sphs_re.check_out()"
   ]
  },
  {
   "cell_type": "code",
   "execution_count": null,
   "metadata": {},
   "outputs": [],
   "source": [
    "# Adding the share for renewables\n",
    "add_share_activity(sphs_re,\n",
    "                   relation,            # A relation name\n",
    "                   tec_share,             # Technologies formig the share (nominator)\n",
    "                   tec_total,             # Technologies formig the total (denaminator)\n",
    "                   shares,                # A dictionary of shares per year\n",
    "                   regions,               # Regions for applying the share\n",
    "                  )"
   ]
  },
  {
   "cell_type": "code",
   "execution_count": null,
   "metadata": {},
   "outputs": [],
   "source": [
    "# Saving changes and solving the scenario\n",
    "sphs_re.commit(\"changes saved!\")\n",
    "sphs_re.solve(solve_options={'lpmethod': '4'})"
   ]
  },
  {
   "cell_type": "code",
   "execution_count": null,
   "metadata": {},
   "outputs": [],
   "source": [
    "# Comparing three scenarios on total system costs and GHGs\n",
    "compare_three_scenario(base, scen_re, sphs_re,\n",
    "                           scenario_names=[\"Reference\", \"High RE without SPHS\", \"High RE with SPHS\"],\n",
    "                           )"
   ]
  },
  {
   "cell_type": "markdown",
   "metadata": {},
   "source": [
    "## 4. Representation of emissions targets\n",
    "Emissions targets can be modeled straightforwardly in `message_ix` using the parameter `bound_emission`. The emissions bound can be added for a certain type of technologies, like powerrplants, or for all technologies. In this section, we add total carbon emissions (TCE) bound and investigate the impact on the electricity sector.\n",
    "\n",
    "For more information on adding emission bounds see [this example](https://github.com/iiasa/message_ix/blob/main/tutorial/westeros/westeros_emissions_bounds.ipynb), and for adding emission taxes see [this one](https://github.com/iiasa/message_ix/blob/main/tutorial/westeros/westeros_emissions_taxes.ipynb)."
   ]
  },
  {
   "cell_type": "markdown",
   "metadata": {},
   "source": [
    "### 4.1 Emissions reduction target\n",
    "Emissions targets are usually set as a % reduction relative to a certain year, e.g., 1990 or 2010. In this example, we add a total carbon emissions target in 2050, representing 60% reduction compared to 2020 as the reference year. We derive the reference carbon emissions from the Baseline scenario."
   ]
  },
  {
   "cell_type": "code",
   "execution_count": null,
   "metadata": {},
   "outputs": [],
   "source": [
    "# Cloning a scenario for adding emissions targets\n",
    "emis = base.clone(scenario=\"emission_policy\", keep_solution=False)\n",
    "emis.check_out()"
   ]
  },
  {
   "cell_type": "code",
   "execution_count": null,
   "metadata": {},
   "outputs": [],
   "source": [
    "# Retrieving total carbon emissions (TCE) of Central Asia (CAS) from Baseline\n",
    "node = [\"CAS\"]       # Central Asia \n",
    "tce = base.var(\"EMISS\", {\"node\": node, \"emission\": \"TCE\", \"type_tec\": \"all\"})\n",
    "tce"
   ]
  },
  {
   "cell_type": "code",
   "execution_count": null,
   "metadata": {},
   "outputs": [],
   "source": [
    "# Using TCE emissions of 2020 as the reference for 60% reduction by 2050\n",
    "ref = float(tce.loc[tce[\"year\"] == 2020][\"lvl\"])\n",
    "target = ref * (1 - 0.6)"
   ]
  },
  {
   "cell_type": "markdown",
   "metadata": {},
   "source": [
    "### 4.2 Adding new carbon emissions target\n",
    "It should be noted that the unit of carbon emissions is in MtC-eq. These emissions include those from fossil fuel upstream supply chain, refineries, and the power sector. Land use emissions and emissions form the industry and heating/cooling are not included here."
   ]
  },
  {
   "cell_type": "code",
   "execution_count": null,
   "metadata": {},
   "outputs": [],
   "source": [
    "# Adding total carbon emissions (TCE) target for Central Asia in 2050\n",
    "mp.add_units(\"MtC\")    # adding the unit to the platform (if not exists)\n",
    "emis.add_par(\"bound_emission\", [\"CAS\", \"TCE\", \"all\", 2050] target, \"MtC\")"
   ]
  },
  {
   "cell_type": "code",
   "execution_count": null,
   "metadata": {},
   "outputs": [],
   "source": [
    "# Saving changes and solving the scenario\n",
    "emis.commit(\"changes saved!\")\n",
    "emis.solve(solve_options={'lpmethod': '4'})"
   ]
  },
  {
   "cell_type": "code",
   "execution_count": null,
   "metadata": {},
   "outputs": [],
   "source": [
    "# Visualizing the results\n",
    "yearly_plot(emis, path, \"activity\")"
   ]
  },
  {
   "cell_type": "code",
   "execution_count": null,
   "metadata": {},
   "outputs": [],
   "source": [
    "# Comparing three scenarios on total system costs and GHGs\n",
    "compare_three_scenario(base, scen_re, emis,\n",
    "                           scenario_names=[\"Baseline\", \"High RE without SPHS\", \"Low emission\"],\n",
    "                           )"
   ]
  },
  {
   "cell_type": "markdown",
   "metadata": {},
   "source": [
    "#### Exercise:\n",
    "You can clone a scenario from `sphs` and add an emission target to it as shown above. Then, compare with the same emission target added to `Baseline` scenario. How has pumpedhydro storage (SPHS) helped the system?"
   ]
  },
  {
   "cell_type": "code",
   "execution_count": null,
   "metadata": {},
   "outputs": [],
   "source": [
    "# Close the databse at the end of your work\n",
    "mp.close_db()"
   ]
  }
 ],
 "metadata": {
  "kernelspec": {
   "display_name": "Python 3",
   "language": "python",
   "name": "python3"
  },
  "language_info": {
   "codemirror_mode": {
    "name": "ipython",
    "version": 3
   },
   "file_extension": ".py",
   "mimetype": "text/x-python",
   "name": "python",
   "nbconvert_exporter": "python",
   "pygments_lexer": "ipython3",
   "version": "3.7.6"
  }
 },
 "nbformat": 4,
 "nbformat_minor": 2
}
