{
 "cells": [
  {
   "cell_type": "markdown",
   "metadata": {},
   "source": [
    "## 1. Importing software packages and loading Baseline\n",
    "\n",
    "For running this tutorial, you need to have:\n",
    "- The `message_ix` modeling framework was installed successfully with a version >= 3.4.0 (see instructions [here](https://docs.messageix.org/en/stable/#getting-started) ).\n",
    "- Updated your code by pulling modifications done for this study from [this fork](https://github.com/behnam-zakeri/message_ix/tree/central-asia-paper).\n",
    "\n",
    "*Notice*: If you have installed `message_ix` from source, you can \"pull\" changes from the abovementioned fork automatically. If you have installed `message_ix` using Anaconda/miniconda and you are not familiar with `git`, you need to update your `message_ix` code manually to be able to run this tutorial. For doing so, you need to copy the following folder and file from [this fork](https://github.com/behnam-zakeri/message_ix/tree/central-asia-paper) and replace them in your `message_ix` installation:\n",
    "- `message_ix/model/MESSAGE` [folder](https://github.com/behnam-zakeri/message_ix/tree/central-asia-paper/message_ix/model/MESSAGE), and\n",
    "- `message_ix/models.py` [file](https://github.com/behnam-zakeri/message_ix/tree/central-asia-paper/message_ix/models.py)."
   ]
  },
  {
   "cell_type": "code",
   "execution_count": null,
   "metadata": {},
   "outputs": [],
   "source": [
    "# Importing required software packages\n",
    "import pandas as pd\n",
    "import os\n",
    "import ixmp\n",
    "import message_ix\n",
    "from plotter import plotter\n",
    "from postprocessor import yearly_plot, cost_emission_plot"
   ]
  },
  {
   "cell_type": "code",
   "execution_count": null,
   "metadata": {},
   "outputs": [],
   "source": [
    "# Getting path to this project on your machine\n",
    "# path = os.path.dirname(os.path.realpath(\"__file__\")).strip(\"\\scripts\")\n",
    "path = os.getcwd().strip(\"\\scripts\")"
   ]
  },
  {
   "cell_type": "code",
   "execution_count": null,
   "metadata": {},
   "outputs": [],
   "source": [
    "# Loading modeling platform (this will link you to your database)\n",
    "mp = ixmp.Platform(\"ixmp-dev\")"
   ]
  },
  {
   "cell_type": "code",
   "execution_count": null,
   "metadata": {},
   "outputs": [],
   "source": [
    "# Creating a new scenario with desired model/scenario names\n",
    "model = 'MESSAGEix_KR'\n",
    "scenario = 'baseline'\n",
    "base = message_ix.Scenario(mp, model, scenario, version='new')"
   ]
  },
  {
   "cell_type": "code",
   "execution_count": null,
   "metadata": {},
   "outputs": [],
   "source": [
    "# Specify the filename to the input Excel file\n",
    "filename = '\\\\MESSAGEix_KR_baseline.xlsx'\n",
    "xls_file = path + \"\\\\data\" + filename\n",
    "\n",
    "# Loading data of the Baseline scenario from Excel (may take few minutes)\n",
    "# base.read_excel(\"H:\\MyDocuments\\Projects\\GUIDE\\MESSAGEix_KR_collabo\\data\\MESSAGEix_KR_baseline.xlsx\", init_items=True, add_units=True, commit_steps=True)\n",
    "base.read_excel(xls_file, init_items=True, add_units=True, commit_steps=True)"
   ]
  },
  {
   "cell_type": "markdown",
   "metadata": {},
   "source": [
    "## 2. Looking into model parameters (input data)\n",
    "`message_ix` formulation is written in GAMS, a programming and optimization software. Hence, `message_ix` uses the same syntax as GAMS, which means the model has:\n",
    "- index sets: such as set of technologies ('technology'), locations ('node'), etc.\n",
    "- parameters (input data): such as investment cost ('inv_cost'), capcaity factor ('capacity_factor') etc.\n",
    "- variables (output results): such as total installed capacity ('CAP'), activity ('ACT') etc.\n",
    "\n",
    "You can list these items by using relevant syntax. For example, for listing `message_ix` sets, you can run the command: `base.set_list()`, and for listing available parameters run `base.par_list()`.\n",
    "For more information on each of the model sets and parameters, please refer to the documentation, e.g., [parameter definitions](https://docs.messageix.org/en/master/model/MESSAGE/parameter_def.html). "
   ]
  },
  {
   "cell_type": "markdown",
   "metadata": {},
   "source": [
    "### Hint:\n",
    "You can use python syntax to filter or look for some specific parameters, e.g., containing a word or term in their name (see example below)."
   ]
  },
  {
   "cell_type": "code",
   "execution_count": null,
   "metadata": {},
   "outputs": [],
   "source": [
    "# Listing parameters that have a string of \"cost\" in their name\n",
    "[x for x in base.par_list() if 'cost' in x]"
   ]
  },
  {
   "cell_type": "markdown",
   "metadata": {},
   "source": [
    "### 2.1. Loading input data\n",
    "You can load parameters by their name and investigate them. The output will be a python dataframe, which looks like a stacked table. Also, we can load a portion of a parameter data, i.e., by slicing the table. See the examples below:"
   ]
  },
  {
   "cell_type": "code",
   "execution_count": null,
   "metadata": {},
   "outputs": [],
   "source": [
    "# Loading data of a parameter (with no filter, it returns the entire table)\n",
    "parname = 'var_cost'   # variable O&M cost\n",
    "table = base.par(parname)\n",
    "# see the table and column names (if the table is large, you will only see the beginning and end rows)\n",
    "table"
   ]
  },
  {
   "cell_type": "code",
   "execution_count": null,
   "metadata": {},
   "outputs": [],
   "source": [
    "# Loading data of a parameter, by filtering a portion of the table\n",
    "parname = 'inv_cost'   # CAPEX\n",
    "tec = 'coal_ppl'       # coal power plant\n",
    "node = 'Korea'           # Korea\n",
    "\n",
    "# Notice the syntax for filtering\n",
    "table = base.par(parname, {'technology': tec, 'node_loc':node})\n",
    "# see the table and column names\n",
    "table"
   ]
  },
  {
   "cell_type": "code",
   "execution_count": null,
   "metadata": {},
   "outputs": [],
   "source": [
    "# Loading data of a parameter, even with more filters\n",
    "parname = 'var_cost'   # variable O&M cost\n",
    "techno = 'coal_extr'   # coal extraction process\n",
    "node = 'Korea'           # Uzbekistan\n",
    "years = [2025, 2030, 2035, 2040]           # activity years of 2025-2040\n",
    "\n",
    "# Notice the syntax when we pass a list to an index\n",
    "table = base.par(parname, {'technology': techno, 'node_loc':node,\n",
    "                           'year_act': years})\n",
    "# see the content\n",
    "table  "
   ]
  },
  {
   "cell_type": "code",
   "execution_count": null,
   "metadata": {},
   "outputs": [],
   "source": [
    "# If you don't know the index names related to the parameter (i.e., column names of the table), you can see them by:\n",
    "base.idx_names('inv_cost')"
   ]
  },
  {
   "cell_type": "markdown",
   "metadata": {},
   "source": [
    "### Info (1): units in the MESSAGEix_KR model\n",
    "As you saw in the example above, \"unit\" is not listed as an index. In the MESSAGEix formulation, \"unit\" is defined by the user just for information, and it does NOT affect the calculations. In other words, MESSAGEix does not check the units, nor convert them. Hence, this is the user that should be careful when defining parameters and adding \"value\" to the parameters to ensure consistency and accuracy of the units. In the MESSAGEix_KR model, the units are as follows:\n",
    "- unit of capacity: GW\n",
    "- unit of activity: GWa (gigawatts-year) (1 GWa = 8.76 TWh)\n",
    "- unit of investment cost: \\\\$/kW (= M\\\\$/GW)\n",
    "- unit of variable cost: \\\\$/kWa (= M\\\\$/GWa)\n",
    "- unit of water flow: 1000 m3/s (thousand cubic meter per second)\n",
    "- unit of CO2 emission: Mt of Ceq\n",
    "- unit of other emissions: kt"
   ]
  },
  {
   "cell_type": "markdown",
   "metadata": {},
   "source": [
    "### 2.2. Visualizing input data\n",
    "You can visualize input data and investigate them. For this, you can use python visualization methods or a few functions provided in this repository."
   ]
  },
  {
   "cell_type": "code",
   "execution_count": null,
   "metadata": {},
   "outputs": [],
   "source": [
    "# Visualizing input data in a parameter for certain technologies or commodities\n",
    "node = \"Korea\"\n",
    "tec = \"solar_pv_ppl\"        # solar PV\n",
    "parameter = \"inv_cost\"      # CAPEX\n",
    "df = base.par(parameter, {\"technology\": tec, \"node_loc\": node}).sort_values([\"year_vtg\"])\n",
    "df = df.loc[df[\"year_vtg\"] >= 2015]\n",
    "\n",
    "# Plotting\n",
    "pl = pd.Series(df[\"value\"].to_list(),\n",
    "                        index=pd.Index(df[\"year_vtg\"].to_list(), name='Year'))\n",
    "pl.plot(title='CAPEX of {} ($/kW)'.format(tec), ylim=[0, 1500])"
   ]
  },
  {
   "cell_type": "markdown",
   "metadata": {
    "collapsed": true
   },
   "source": [
    "## 4. Solving the scenario\n",
    "After committing the changes, we are ready to solve the scenario. Solving the scenario means sending the input data from your database to GAMS formulation in the form of GDX files, solving the mathematical formulation, and retrieving the output results (MESSAGEix variables) back to your database. If solving the scenario succeeds without an error, we will be able to look into the results. Otherwise, you need to find out why the scenario has been insolvable.\n",
    "\n",
    "#### Tip (1): Solver options\n",
    "Large MESSAGEix models solve more quickly in \"Barrier\" method when using CPLEX as the solver. You can pass this option through `solve_options` arguments as below.\n",
    "\n",
    "#### Tip (2): Case name\n",
    "You can send your scenario for solving with a user-defined name. This name will be used to name the GDX files in GAMS, and it does not change the model/scenario name in your scenario database. You can leave the case name empty."
   ]
  },
  {
   "cell_type": "code",
   "execution_count": null,
   "metadata": {},
   "outputs": [],
   "source": [
    "# Solving the scenario (may up to 3 minutes)\n",
    "casename = ('_').join([base.model, base.scenario, str(base.version)])\n",
    "base.solve(solve_options={'lpmethod': '4'})"
   ]
  },
  {
   "cell_type": "code",
   "execution_count": null,
   "metadata": {},
   "outputs": [],
   "source": [
    "# See the version of this scenario in your database\n",
    "base.version"
   ]
  },
  {
   "cell_type": "markdown",
   "metadata": {},
   "source": [
    "## 4.1. Visualizing output results\n",
    "In this part, we can visualize some output results both on the sub-annual and yearly basis."
   ]
  },
  {
   "cell_type": "code",
   "execution_count": null,
   "metadata": {},
   "outputs": [],
   "source": [
    "from plotter import plotter\n",
    "plotter(\"Korea baseline\", base, \"Korea\", path + \"//data/results\")"
   ]
  },
  {
   "cell_type": "code",
   "execution_count": null,
   "metadata": {},
   "outputs": [],
   "source": [
    "# Close the database at the end of your work\n",
    "mp.close_db()"
   ]
  }
 ],
 "metadata": {
  "kernelspec": {
   "display_name": "Python 3 (ipykernel)",
   "language": "python",
   "name": "python3"
  },
  "language_info": {
   "codemirror_mode": {
    "name": "ipython",
    "version": 3
   },
   "file_extension": ".py",
   "mimetype": "text/x-python",
   "name": "python",
   "nbconvert_exporter": "python",
   "pygments_lexer": "ipython3",
   "version": "3.9.7"
  }
 },
 "nbformat": 4,
 "nbformat_minor": 2
}
