{
 "cells": [
  {
   "cell_type": "markdown",
   "metadata": {},
   "source": [
    "# Part I: Building an energy-water model for Central Asia\n",
    "\n",
    "This is a short tutorial for showing how one can work with the open MESSAGEix energy-water model of Central Asia (MESSAGEix-CAS). This tutorial includes instructions for:\n",
    "- building the MESSAGEix-CAS model on your machine and loading data of a Baseline scenario\n",
    "- looking into some input data and assumptions of the scenario\n",
    "- solving the scenario\n",
    "- postprocessing and visualization of some output results\n",
    "\n",
    "The model presented here has been used for the analysis of the energy-water scenarios in Central Asia in [Zakeri et al., 2022](https://doi.org/10.1016/j.est.2022.104587). This tutorial has been designed by Dr. Behnam Zakeri (IIASA); please contact us (zakeri@iiasa.ac.at) if you have any questions or feedback.\n",
    "\n",
    "<img src='_static/central-asia-map.png' style=\"width: 400px;\"/>\n",
    "\n",
    "Source of image: [Central Asia Water and Energy Program](https://www.worldbank.org/en/region/eca/brief/about-caewdp)"
   ]
  },
  {
   "cell_type": "markdown",
   "metadata": {},
   "source": [
    "## 1. Importing software packages and loading Baseline\n",
    "\n",
    "For running this tutorial, you need to have:\n",
    "- The `message_ix` modeling framework installed sucessfully with a version >= 3.4.0 (see instructions [here](https://docs.messageix.org/en/stable/#getting-started) ).\n",
    "- Updated your code by pulling modifications done for this study from [this fork](https://github.com/behnam-zakeri/message_ix/tree/central-asia-paper).\n",
    "\n",
    "*Notice*: If you have installed `message_ix` from source, you can \"pull\" changes from the abovementioned fork automatically. If you have installed `message_ix` using Anaconda/miniconda and and you are not familiar with `git`, you need to update your `message_ix` code manually to be able to run this tutorial. For doing so, you need to copy the following folder and file from [this fork](https://github.com/behnam-zakeri/message_ix/tree/central-asia-paper) and replace them in your `message_ix` installation:\n",
    "- `message_ix/model/MESSAGE` [folder](https://github.com/behnam-zakeri/message_ix/tree/central-asia-paper/message_ix/model/MESSAGE), and\n",
    "- `message_ix/models.py` [file](https://github.com/behnam-zakeri/message_ix/tree/central-asia-paper/message_ix/models.py)."
   ]
  },
  {
   "cell_type": "code",
   "execution_count": 2,
   "metadata": {},
   "outputs": [],
   "source": [
    "# Importing required software packages\n",
    "import pandas as pd\n",
    "import ixmp\n",
    "import message_ix\n",
    "from postprocessor import monthly_plot, yearly_plot, cost_emission_plot"
   ]
  },
  {
   "cell_type": "code",
   "execution_count": 3,
   "metadata": {},
   "outputs": [],
   "source": [
    "# Loading modeling platform (this will link you to your database)\n",
    "mp = ixmp.Platform()"
   ]
  },
  {
   "cell_type": "code",
   "execution_count": 13,
   "metadata": {},
   "outputs": [],
   "source": [
    "# Creating a new scenario with desired model/scenario names\n",
    "model = 'MESSAGEix-CAS'\n",
    "scenario = 'baseline_xlsx'\n",
    "base = message_ix.Scenario(mp, model, scenario, version='new')"
   ]
  },
  {
   "cell_type": "code",
   "execution_count": 15,
   "metadata": {},
   "outputs": [],
   "source": [
    "# Specify the path to the input Excel file\n",
    "path = r'C:\\Users\\zakeri\\Documents\\Github\\central-asia-storage'    # Notice: update this for your own local path\n",
    "filename = '\\\\MESSAGEix-CAS_baseline.xlsx'\n",
    "xls_file = path + \"\\\\data\" + filename\n",
    "\n",
    "# Loading data of the Baseline scenario from Excel (may take few minutes)\n",
    "base.read_excel(xls_file, init_items=True, add_units=True, commit_steps=True)"
   ]
  },
  {
   "cell_type": "markdown",
   "metadata": {},
   "source": [
    "### Congratulations!!! \n",
    "You have built your Central Asia's energy-water model. Now, you can continue this tutorial to learn how you can look into the input data of your model."
   ]
  },
  {
   "cell_type": "markdown",
   "metadata": {},
   "source": [
    "## 2. Looking into model parameters (input data)\n",
    "`message_ix` formulation is written in GAMS, a programming and optimization software. Hence, `message_ix` uses the same syntax as GAMS, which means the model has:\n",
    "- index sets: such as set of technologies ('technology'), locations ('node'), etc.\n",
    "- parameters (input data): such as investment cost ('inv_cost'), capcaity factor ('capacity_factor') etc.\n",
    "- variables (output results): such as total installed capacity ('CAP'), activity ('ACT') etc.\n",
    "\n",
    "You can list these items by using relevant syntax. For example, for listing `message_ix` sets, you can run the command: `base.set_list()`, and for listing available parameters run `base.par_list()`.\n",
    "For more information on each of model sets and parameters, please refer to the documentation, e.g., [parameter definitions](https://docs.messageix.org/en/master/model/MESSAGE/parameter_def.html). "
   ]
  },
  {
   "cell_type": "markdown",
   "metadata": {},
   "source": [
    "### Hint:\n",
    "You can use python syntax to filter or look for some specific parameters, e.g., containing a word or term in their name (see example below)."
   ]
  },
  {
   "cell_type": "code",
   "execution_count": 16,
   "metadata": {},
   "outputs": [
    {
     "data": {
      "text/plain": [
       "['resource_cost',\n",
       " 'inv_cost',\n",
       " 'fix_cost',\n",
       " 'var_cost',\n",
       " 'abs_cost_new_capacity_soft_up',\n",
       " 'abs_cost_new_capacity_soft_lo',\n",
       " 'level_cost_new_capacity_soft_up',\n",
       " 'level_cost_new_capacity_soft_lo',\n",
       " 'abs_cost_activity_soft_up',\n",
       " 'abs_cost_activity_soft_lo',\n",
       " 'level_cost_activity_soft_up',\n",
       " 'level_cost_activity_soft_lo',\n",
       " 'land_cost',\n",
       " 'relation_cost']"
      ]
     },
     "execution_count": 16,
     "metadata": {},
     "output_type": "execute_result"
    }
   ],
   "source": [
    "# Listing parameters that have string of \"cost\" in their name\n",
    "[x for x in base.par_list() if 'cost' in x]"
   ]
  },
  {
   "cell_type": "markdown",
   "metadata": {},
   "source": [
    "### 2.1. Loading input data\n",
    "You can load parameters by their name and investigate them. The output will be a python dataframe, which looks like a stacked table. Also, we can load a portion of a parameter data, i.e., by slicing the table. See the examples below:"
   ]
  },
  {
   "cell_type": "code",
   "execution_count": 17,
   "metadata": {},
   "outputs": [
    {
     "data": {
      "text/html": [
       "<div>\n",
       "<style scoped>\n",
       "    .dataframe tbody tr th:only-of-type {\n",
       "        vertical-align: middle;\n",
       "    }\n",
       "\n",
       "    .dataframe tbody tr th {\n",
       "        vertical-align: top;\n",
       "    }\n",
       "\n",
       "    .dataframe thead th {\n",
       "        text-align: right;\n",
       "    }\n",
       "</style>\n",
       "<table border=\"1\" class=\"dataframe\">\n",
       "  <thead>\n",
       "    <tr style=\"text-align: right;\">\n",
       "      <th></th>\n",
       "      <th>node_loc</th>\n",
       "      <th>technology</th>\n",
       "      <th>year_vtg</th>\n",
       "      <th>year_act</th>\n",
       "      <th>mode</th>\n",
       "      <th>time</th>\n",
       "      <th>value</th>\n",
       "      <th>unit</th>\n",
       "    </tr>\n",
       "  </thead>\n",
       "  <tbody>\n",
       "    <tr>\n",
       "      <th>0</th>\n",
       "      <td>TJK</td>\n",
       "      <td>CF4_TCE</td>\n",
       "      <td>1990</td>\n",
       "      <td>1990</td>\n",
       "      <td>M1</td>\n",
       "      <td>year</td>\n",
       "      <td>0.0</td>\n",
       "      <td>USD/kWa</td>\n",
       "    </tr>\n",
       "    <tr>\n",
       "      <th>1</th>\n",
       "      <td>TJK</td>\n",
       "      <td>CF4_TCE</td>\n",
       "      <td>1995</td>\n",
       "      <td>1995</td>\n",
       "      <td>M1</td>\n",
       "      <td>year</td>\n",
       "      <td>0.0</td>\n",
       "      <td>USD/kWa</td>\n",
       "    </tr>\n",
       "    <tr>\n",
       "      <th>2</th>\n",
       "      <td>TJK</td>\n",
       "      <td>CF4_TCE</td>\n",
       "      <td>2000</td>\n",
       "      <td>2000</td>\n",
       "      <td>M1</td>\n",
       "      <td>year</td>\n",
       "      <td>0.0</td>\n",
       "      <td>USD/kWa</td>\n",
       "    </tr>\n",
       "    <tr>\n",
       "      <th>3</th>\n",
       "      <td>TJK</td>\n",
       "      <td>CF4_TCE</td>\n",
       "      <td>2005</td>\n",
       "      <td>2005</td>\n",
       "      <td>M1</td>\n",
       "      <td>year</td>\n",
       "      <td>0.0</td>\n",
       "      <td>USD/kWa</td>\n",
       "    </tr>\n",
       "    <tr>\n",
       "      <th>4</th>\n",
       "      <td>TJK</td>\n",
       "      <td>CF4_TCE</td>\n",
       "      <td>2010</td>\n",
       "      <td>2010</td>\n",
       "      <td>M1</td>\n",
       "      <td>year</td>\n",
       "      <td>0.0</td>\n",
       "      <td>USD/kWa</td>\n",
       "    </tr>\n",
       "    <tr>\n",
       "      <th>...</th>\n",
       "      <td>...</td>\n",
       "      <td>...</td>\n",
       "      <td>...</td>\n",
       "      <td>...</td>\n",
       "      <td>...</td>\n",
       "      <td>...</td>\n",
       "      <td>...</td>\n",
       "      <td>...</td>\n",
       "    </tr>\n",
       "    <tr>\n",
       "      <th>168496</th>\n",
       "      <td>UZB</td>\n",
       "      <td>elec_exp_uzb-tjk</td>\n",
       "      <td>2040</td>\n",
       "      <td>2040</td>\n",
       "      <td>M1</td>\n",
       "      <td>12</td>\n",
       "      <td>0.0</td>\n",
       "      <td>USD/kWa</td>\n",
       "    </tr>\n",
       "    <tr>\n",
       "      <th>168497</th>\n",
       "      <td>UZB</td>\n",
       "      <td>elec_exp_uzb-tjk</td>\n",
       "      <td>2045</td>\n",
       "      <td>2045</td>\n",
       "      <td>M1</td>\n",
       "      <td>12</td>\n",
       "      <td>0.0</td>\n",
       "      <td>USD/kWa</td>\n",
       "    </tr>\n",
       "    <tr>\n",
       "      <th>168498</th>\n",
       "      <td>UZB</td>\n",
       "      <td>elec_exp_uzb-tjk</td>\n",
       "      <td>2050</td>\n",
       "      <td>2050</td>\n",
       "      <td>M1</td>\n",
       "      <td>12</td>\n",
       "      <td>0.0</td>\n",
       "      <td>USD/kWa</td>\n",
       "    </tr>\n",
       "    <tr>\n",
       "      <th>168499</th>\n",
       "      <td>UZB</td>\n",
       "      <td>elec_exp_uzb-tjk</td>\n",
       "      <td>2055</td>\n",
       "      <td>2055</td>\n",
       "      <td>M1</td>\n",
       "      <td>12</td>\n",
       "      <td>0.0</td>\n",
       "      <td>USD/kWa</td>\n",
       "    </tr>\n",
       "    <tr>\n",
       "      <th>168500</th>\n",
       "      <td>UZB</td>\n",
       "      <td>elec_exp_uzb-tjk</td>\n",
       "      <td>2060</td>\n",
       "      <td>2060</td>\n",
       "      <td>M1</td>\n",
       "      <td>12</td>\n",
       "      <td>0.0</td>\n",
       "      <td>USD/kWa</td>\n",
       "    </tr>\n",
       "  </tbody>\n",
       "</table>\n",
       "<p>168501 rows × 8 columns</p>\n",
       "</div>"
      ],
      "text/plain": [
       "       node_loc        technology  year_vtg  year_act mode  time  value  \\\n",
       "0           TJK           CF4_TCE      1990      1990   M1  year    0.0   \n",
       "1           TJK           CF4_TCE      1995      1995   M1  year    0.0   \n",
       "2           TJK           CF4_TCE      2000      2000   M1  year    0.0   \n",
       "3           TJK           CF4_TCE      2005      2005   M1  year    0.0   \n",
       "4           TJK           CF4_TCE      2010      2010   M1  year    0.0   \n",
       "...         ...               ...       ...       ...  ...   ...    ...   \n",
       "168496      UZB  elec_exp_uzb-tjk      2040      2040   M1    12    0.0   \n",
       "168497      UZB  elec_exp_uzb-tjk      2045      2045   M1    12    0.0   \n",
       "168498      UZB  elec_exp_uzb-tjk      2050      2050   M1    12    0.0   \n",
       "168499      UZB  elec_exp_uzb-tjk      2055      2055   M1    12    0.0   \n",
       "168500      UZB  elec_exp_uzb-tjk      2060      2060   M1    12    0.0   \n",
       "\n",
       "           unit  \n",
       "0       USD/kWa  \n",
       "1       USD/kWa  \n",
       "2       USD/kWa  \n",
       "3       USD/kWa  \n",
       "4       USD/kWa  \n",
       "...         ...  \n",
       "168496  USD/kWa  \n",
       "168497  USD/kWa  \n",
       "168498  USD/kWa  \n",
       "168499  USD/kWa  \n",
       "168500  USD/kWa  \n",
       "\n",
       "[168501 rows x 8 columns]"
      ]
     },
     "execution_count": 17,
     "metadata": {},
     "output_type": "execute_result"
    }
   ],
   "source": [
    "# Loading data of a parameter (with no filter, it returns the entire table)\n",
    "parname = 'var_cost'   # variable O&M cost\n",
    "table = base.par(parname)\n",
    "# see the table and column names (if table is large, you will only see the beginning and end rows)\n",
    "table"
   ]
  },
  {
   "cell_type": "code",
   "execution_count": 18,
   "metadata": {},
   "outputs": [
    {
     "data": {
      "text/html": [
       "<div>\n",
       "<style scoped>\n",
       "    .dataframe tbody tr th:only-of-type {\n",
       "        vertical-align: middle;\n",
       "    }\n",
       "\n",
       "    .dataframe tbody tr th {\n",
       "        vertical-align: top;\n",
       "    }\n",
       "\n",
       "    .dataframe thead th {\n",
       "        text-align: right;\n",
       "    }\n",
       "</style>\n",
       "<table border=\"1\" class=\"dataframe\">\n",
       "  <thead>\n",
       "    <tr style=\"text-align: right;\">\n",
       "      <th></th>\n",
       "      <th>node_loc</th>\n",
       "      <th>technology</th>\n",
       "      <th>year_vtg</th>\n",
       "      <th>value</th>\n",
       "      <th>unit</th>\n",
       "    </tr>\n",
       "  </thead>\n",
       "  <tbody>\n",
       "    <tr>\n",
       "      <th>0</th>\n",
       "      <td>UZB</td>\n",
       "      <td>coal_ppl</td>\n",
       "      <td>1995</td>\n",
       "      <td>1795.3750</td>\n",
       "      <td>USD/kW</td>\n",
       "    </tr>\n",
       "    <tr>\n",
       "      <th>1</th>\n",
       "      <td>UZB</td>\n",
       "      <td>coal_ppl</td>\n",
       "      <td>2000</td>\n",
       "      <td>1795.3750</td>\n",
       "      <td>USD/kW</td>\n",
       "    </tr>\n",
       "    <tr>\n",
       "      <th>2</th>\n",
       "      <td>UZB</td>\n",
       "      <td>coal_ppl</td>\n",
       "      <td>2005</td>\n",
       "      <td>1719.8500</td>\n",
       "      <td>USD/kW</td>\n",
       "    </tr>\n",
       "    <tr>\n",
       "      <th>3</th>\n",
       "      <td>UZB</td>\n",
       "      <td>coal_ppl</td>\n",
       "      <td>2010</td>\n",
       "      <td>1608.5500</td>\n",
       "      <td>USD/kW</td>\n",
       "    </tr>\n",
       "    <tr>\n",
       "      <th>4</th>\n",
       "      <td>UZB</td>\n",
       "      <td>coal_ppl</td>\n",
       "      <td>2020</td>\n",
       "      <td>1540.9750</td>\n",
       "      <td>USD/kW</td>\n",
       "    </tr>\n",
       "    <tr>\n",
       "      <th>5</th>\n",
       "      <td>UZB</td>\n",
       "      <td>coal_ppl</td>\n",
       "      <td>2030</td>\n",
       "      <td>1507.8500</td>\n",
       "      <td>USD/kW</td>\n",
       "    </tr>\n",
       "    <tr>\n",
       "      <th>6</th>\n",
       "      <td>UZB</td>\n",
       "      <td>coal_ppl</td>\n",
       "      <td>2040</td>\n",
       "      <td>1501.2250</td>\n",
       "      <td>USD/kW</td>\n",
       "    </tr>\n",
       "    <tr>\n",
       "      <th>7</th>\n",
       "      <td>UZB</td>\n",
       "      <td>coal_ppl</td>\n",
       "      <td>2050</td>\n",
       "      <td>1514.4750</td>\n",
       "      <td>USD/kW</td>\n",
       "    </tr>\n",
       "    <tr>\n",
       "      <th>8</th>\n",
       "      <td>UZB</td>\n",
       "      <td>coal_ppl</td>\n",
       "      <td>2060</td>\n",
       "      <td>1537.0000</td>\n",
       "      <td>USD/kW</td>\n",
       "    </tr>\n",
       "    <tr>\n",
       "      <th>9</th>\n",
       "      <td>UZB</td>\n",
       "      <td>coal_ppl</td>\n",
       "      <td>2015</td>\n",
       "      <td>1574.7625</td>\n",
       "      <td>USD/kW</td>\n",
       "    </tr>\n",
       "    <tr>\n",
       "      <th>10</th>\n",
       "      <td>UZB</td>\n",
       "      <td>coal_ppl</td>\n",
       "      <td>2025</td>\n",
       "      <td>1524.4125</td>\n",
       "      <td>USD/kW</td>\n",
       "    </tr>\n",
       "    <tr>\n",
       "      <th>11</th>\n",
       "      <td>UZB</td>\n",
       "      <td>coal_ppl</td>\n",
       "      <td>2035</td>\n",
       "      <td>1504.5375</td>\n",
       "      <td>USD/kW</td>\n",
       "    </tr>\n",
       "    <tr>\n",
       "      <th>12</th>\n",
       "      <td>UZB</td>\n",
       "      <td>coal_ppl</td>\n",
       "      <td>2045</td>\n",
       "      <td>1507.8500</td>\n",
       "      <td>USD/kW</td>\n",
       "    </tr>\n",
       "    <tr>\n",
       "      <th>13</th>\n",
       "      <td>UZB</td>\n",
       "      <td>coal_ppl</td>\n",
       "      <td>2055</td>\n",
       "      <td>1525.7375</td>\n",
       "      <td>USD/kW</td>\n",
       "    </tr>\n",
       "  </tbody>\n",
       "</table>\n",
       "</div>"
      ],
      "text/plain": [
       "   node_loc technology  year_vtg      value    unit\n",
       "0       UZB   coal_ppl      1995  1795.3750  USD/kW\n",
       "1       UZB   coal_ppl      2000  1795.3750  USD/kW\n",
       "2       UZB   coal_ppl      2005  1719.8500  USD/kW\n",
       "3       UZB   coal_ppl      2010  1608.5500  USD/kW\n",
       "4       UZB   coal_ppl      2020  1540.9750  USD/kW\n",
       "5       UZB   coal_ppl      2030  1507.8500  USD/kW\n",
       "6       UZB   coal_ppl      2040  1501.2250  USD/kW\n",
       "7       UZB   coal_ppl      2050  1514.4750  USD/kW\n",
       "8       UZB   coal_ppl      2060  1537.0000  USD/kW\n",
       "9       UZB   coal_ppl      2015  1574.7625  USD/kW\n",
       "10      UZB   coal_ppl      2025  1524.4125  USD/kW\n",
       "11      UZB   coal_ppl      2035  1504.5375  USD/kW\n",
       "12      UZB   coal_ppl      2045  1507.8500  USD/kW\n",
       "13      UZB   coal_ppl      2055  1525.7375  USD/kW"
      ]
     },
     "execution_count": 18,
     "metadata": {},
     "output_type": "execute_result"
    }
   ],
   "source": [
    "# Loading data of a parameter, by filtering a portion of the table\n",
    "parname = 'inv_cost'   # CAPEX\n",
    "tec = 'coal_ppl'       # coal power plant\n",
    "node = 'UZB'           # Uzbekistan\n",
    "\n",
    "# Notice the syntax for filtering\n",
    "table = base.par(parname, {'technology': tec, 'node_loc':node})\n",
    "# see the table and column names\n",
    "table"
   ]
  },
  {
   "cell_type": "code",
   "execution_count": 19,
   "metadata": {},
   "outputs": [
    {
     "data": {
      "text/html": [
       "<div>\n",
       "<style scoped>\n",
       "    .dataframe tbody tr th:only-of-type {\n",
       "        vertical-align: middle;\n",
       "    }\n",
       "\n",
       "    .dataframe tbody tr th {\n",
       "        vertical-align: top;\n",
       "    }\n",
       "\n",
       "    .dataframe thead th {\n",
       "        text-align: right;\n",
       "    }\n",
       "</style>\n",
       "<table border=\"1\" class=\"dataframe\">\n",
       "  <thead>\n",
       "    <tr style=\"text-align: right;\">\n",
       "      <th></th>\n",
       "      <th>node_loc</th>\n",
       "      <th>technology</th>\n",
       "      <th>year_vtg</th>\n",
       "      <th>year_act</th>\n",
       "      <th>mode</th>\n",
       "      <th>time</th>\n",
       "      <th>value</th>\n",
       "      <th>unit</th>\n",
       "    </tr>\n",
       "  </thead>\n",
       "  <tbody>\n",
       "    <tr>\n",
       "      <th>3404</th>\n",
       "      <td>UZB</td>\n",
       "      <td>coal_extr</td>\n",
       "      <td>2020</td>\n",
       "      <td>2025</td>\n",
       "      <td>M1</td>\n",
       "      <td>year</td>\n",
       "      <td>21.425581</td>\n",
       "      <td>USD/kWa</td>\n",
       "    </tr>\n",
       "    <tr>\n",
       "      <th>3405</th>\n",
       "      <td>UZB</td>\n",
       "      <td>coal_extr</td>\n",
       "      <td>2025</td>\n",
       "      <td>2025</td>\n",
       "      <td>M1</td>\n",
       "      <td>year</td>\n",
       "      <td>21.425581</td>\n",
       "      <td>USD/kWa</td>\n",
       "    </tr>\n",
       "    <tr>\n",
       "      <th>3406</th>\n",
       "      <td>UZB</td>\n",
       "      <td>coal_extr</td>\n",
       "      <td>2025</td>\n",
       "      <td>2030</td>\n",
       "      <td>M1</td>\n",
       "      <td>year</td>\n",
       "      <td>21.959756</td>\n",
       "      <td>USD/kWa</td>\n",
       "    </tr>\n",
       "    <tr>\n",
       "      <th>3407</th>\n",
       "      <td>UZB</td>\n",
       "      <td>coal_extr</td>\n",
       "      <td>2030</td>\n",
       "      <td>2030</td>\n",
       "      <td>M1</td>\n",
       "      <td>year</td>\n",
       "      <td>21.959756</td>\n",
       "      <td>USD/kWa</td>\n",
       "    </tr>\n",
       "    <tr>\n",
       "      <th>3408</th>\n",
       "      <td>UZB</td>\n",
       "      <td>coal_extr</td>\n",
       "      <td>2030</td>\n",
       "      <td>2035</td>\n",
       "      <td>M1</td>\n",
       "      <td>year</td>\n",
       "      <td>22.521290</td>\n",
       "      <td>USD/kWa</td>\n",
       "    </tr>\n",
       "    <tr>\n",
       "      <th>3409</th>\n",
       "      <td>UZB</td>\n",
       "      <td>coal_extr</td>\n",
       "      <td>2035</td>\n",
       "      <td>2035</td>\n",
       "      <td>M1</td>\n",
       "      <td>year</td>\n",
       "      <td>22.521290</td>\n",
       "      <td>USD/kWa</td>\n",
       "    </tr>\n",
       "    <tr>\n",
       "      <th>3410</th>\n",
       "      <td>UZB</td>\n",
       "      <td>coal_extr</td>\n",
       "      <td>2035</td>\n",
       "      <td>2040</td>\n",
       "      <td>M1</td>\n",
       "      <td>year</td>\n",
       "      <td>23.082824</td>\n",
       "      <td>USD/kWa</td>\n",
       "    </tr>\n",
       "    <tr>\n",
       "      <th>3411</th>\n",
       "      <td>UZB</td>\n",
       "      <td>coal_extr</td>\n",
       "      <td>2040</td>\n",
       "      <td>2040</td>\n",
       "      <td>M1</td>\n",
       "      <td>year</td>\n",
       "      <td>23.082824</td>\n",
       "      <td>USD/kWa</td>\n",
       "    </tr>\n",
       "  </tbody>\n",
       "</table>\n",
       "</div>"
      ],
      "text/plain": [
       "     node_loc technology  year_vtg  year_act mode  time      value     unit\n",
       "3404      UZB  coal_extr      2020      2025   M1  year  21.425581  USD/kWa\n",
       "3405      UZB  coal_extr      2025      2025   M1  year  21.425581  USD/kWa\n",
       "3406      UZB  coal_extr      2025      2030   M1  year  21.959756  USD/kWa\n",
       "3407      UZB  coal_extr      2030      2030   M1  year  21.959756  USD/kWa\n",
       "3408      UZB  coal_extr      2030      2035   M1  year  22.521290  USD/kWa\n",
       "3409      UZB  coal_extr      2035      2035   M1  year  22.521290  USD/kWa\n",
       "3410      UZB  coal_extr      2035      2040   M1  year  23.082824  USD/kWa\n",
       "3411      UZB  coal_extr      2040      2040   M1  year  23.082824  USD/kWa"
      ]
     },
     "execution_count": 19,
     "metadata": {},
     "output_type": "execute_result"
    }
   ],
   "source": [
    "# Loading data of a parameter, even with more filters\n",
    "parname = 'var_cost'   # variable O&M cost\n",
    "techno = 'coal_extr'   # coal extraction process\n",
    "node = 'UZB'           # Uzbekistan\n",
    "years = [2025, 2030, 2035, 2040]           # activity years of 2025-2040\n",
    "\n",
    "# Notice the syntax when we pass a list to an index\n",
    "table = base.par(parname, {'technology': techno, 'node_loc':node,\n",
    "                           'year_act': years})\n",
    "# see the content\n",
    "table  "
   ]
  },
  {
   "cell_type": "code",
   "execution_count": 20,
   "metadata": {},
   "outputs": [
    {
     "data": {
      "text/plain": [
       "['node_loc', 'technology', 'year_vtg']"
      ]
     },
     "execution_count": 20,
     "metadata": {},
     "output_type": "execute_result"
    }
   ],
   "source": [
    "# If you don't know the index names related to the parameter (i.e., column names of the table), you can see them by:\n",
    "base.idx_names('inv_cost')"
   ]
  },
  {
   "cell_type": "markdown",
   "metadata": {},
   "source": [
    "### Info (1): units in the MESSAGEix-CAS model\n",
    "As you saw in the example above, \"unit\" is not listed as an index. In the MESSAGEix formulation, \"unit\" is defined by the user just for information, and it does NOT affect the calculations. In other words, MESSAGEix does not check the units, nor convert them. Hence, this is the user that should be careful when defining parameters and adding \"value\" to the parameters to ensure consistency and accuracy of the units. In the MESSAGEix-CAS model, the units are as follows:\n",
    "- unit of capacity: GW\n",
    "- unit of activity: GWa (gigawatts-year) (1 GWa = 8.76 TWh)\n",
    "- unit of investment cost: \\\\$/kW (= M\\\\$/GW)\n",
    "- unit of variable cost: \\\\$/kWa (= M\\\\$/GWa)\n",
    "- unit of water flow: 1000 m3/s (thousand cubic meter per second)\n",
    "- unit of CO2 emission: Mt of Ceq\n",
    "- unit of other emissions: kt"
   ]
  },
  {
   "cell_type": "markdown",
   "metadata": {},
   "source": [
    "### 2.2. Visualizing input data\n",
    "You can visualize input data and investigate them. For this, you can use python visualization methods or a few functions provided in this repository."
   ]
  },
  {
   "cell_type": "code",
   "execution_count": 21,
   "metadata": {},
   "outputs": [
    {
     "data": {
      "text/plain": [
       "<matplotlib.axes._subplots.AxesSubplot at 0x1a396081348>"
      ]
     },
     "execution_count": 21,
     "metadata": {},
     "output_type": "execute_result"
    },
    {
     "data": {
      "image/png": "[encoded data removed]",
      "text/plain": [
       "<Figure size 432x288 with 1 Axes>"
      ]
     },
     "metadata": {
      "needs_background": "light"
     },
     "output_type": "display_data"
    }
   ],
   "source": [
    "# Visualizing input data in a parameter for certain technologies or commodities\n",
    "node = \"UZB\"\n",
    "tec = \"solar_pv_ppl\"        # solar PV\n",
    "parameter = \"inv_cost\"      # CAPEX\n",
    "df = base.par(parameter, {\"technology\": tec, \"node_loc\": node}).sort_values([\"year_vtg\"])\n",
    "df = df.loc[df[\"year_vtg\"] >= 2015]\n",
    "\n",
    "# Plotting\n",
    "pl = pd.Series(df[\"value\"].to_list(),\n",
    "                        index=pd.Index(df[\"year_vtg\"].to_list(), name='Year'))\n",
    "pl.plot(title='CAPEX of {} ($/kW)'.format(tec), ylim=[0, 1500])"
   ]
  },
  {
   "cell_type": "markdown",
   "metadata": {
    "collapsed": true
   },
   "source": [
    "## 4. Solving the scenario\n",
    "After committing the changes, we are ready to solve the scenario. Solving the scenario means sending the input data from your database to GAMS formulation in the form of GDX files, solving the mathematical formulation, and retrieving the output results (MESSAGEix variables) back to your database. If solving the scenario succeeds without an error, we will be able to look into the results. Otherwise, you need to find out why the scenario has been insolvable.\n",
    "\n",
    "#### Tip (1): Solver options\n",
    "Large MESSAGEix models solve more quickly in \"Barrier\" method when using CPLEX as the solver. You can pass this option through `solve_options` arguments as below.\n",
    "\n",
    "#### Tipe (2): Case name\n",
    "You can send your scenario for solving with a user-defined name. This name will be used to name the GDX files in GAMS, and it does not change the model/scenario name in your scenario database. You can leave the case name empty. To be bale to track your scenarios easily in your GAMS folder under `message_ix\\model` folder, it is recommended to make a case name with the combination of model, scenario, and version (see below)."
   ]
  },
  {
   "cell_type": "code",
   "execution_count": 23,
   "metadata": {},
   "outputs": [
    {
     "ename": "ModelError",
     "evalue": "GAMS errored with return code 6:\n    There was a parameter error\n\nFor details, see the terminal output above, plus:\nInput data: C:\\Temp\\tmprq_hxnqg\\default_in.gdx",
     "output_type": "error",
     "traceback": [
      "\u001b[1;31m---------------------------------------------------------------------------\u001b[0m",
      "\u001b[1;31mModelError\u001b[0m                                Traceback (most recent call last)",
      "\u001b[1;32m<ipython-input-23-78507f3b1034>\u001b[0m in \u001b[0;36m<module>\u001b[1;34m\u001b[0m\n\u001b[0;32m      1\u001b[0m \u001b[1;31m# Solving the scenario (may up to 3 minutes)\u001b[0m\u001b[1;33m\u001b[0m\u001b[1;33m\u001b[0m\u001b[1;33m\u001b[0m\u001b[0m\n\u001b[0;32m      2\u001b[0m \u001b[0mcasename\u001b[0m \u001b[1;33m=\u001b[0m \u001b[1;33m(\u001b[0m\u001b[1;34m'_'\u001b[0m\u001b[1;33m)\u001b[0m\u001b[1;33m.\u001b[0m\u001b[0mjoin\u001b[0m\u001b[1;33m(\u001b[0m\u001b[1;33m[\u001b[0m\u001b[0mbase\u001b[0m\u001b[1;33m.\u001b[0m\u001b[0mmodel\u001b[0m\u001b[1;33m,\u001b[0m \u001b[0mbase\u001b[0m\u001b[1;33m.\u001b[0m\u001b[0mscenario\u001b[0m\u001b[1;33m,\u001b[0m \u001b[0mstr\u001b[0m\u001b[1;33m(\u001b[0m\u001b[0mbase\u001b[0m\u001b[1;33m.\u001b[0m\u001b[0mversion\u001b[0m\u001b[1;33m)\u001b[0m\u001b[1;33m]\u001b[0m\u001b[1;33m)\u001b[0m\u001b[1;33m\u001b[0m\u001b[1;33m\u001b[0m\u001b[0m\n\u001b[1;32m----> 3\u001b[1;33m \u001b[0mbase\u001b[0m\u001b[1;33m.\u001b[0m\u001b[0msolve\u001b[0m\u001b[1;33m(\u001b[0m\u001b[0mcasename\u001b[0m\u001b[1;33m,\u001b[0m \u001b[0msolve_options\u001b[0m\u001b[1;33m=\u001b[0m\u001b[1;33m{\u001b[0m\u001b[1;34m'lpmethod'\u001b[0m\u001b[1;33m:\u001b[0m \u001b[1;34m'4'\u001b[0m\u001b[1;33m}\u001b[0m\u001b[1;33m)\u001b[0m\u001b[1;33m\u001b[0m\u001b[1;33m\u001b[0m\u001b[0m\n\u001b[0m",
      "\u001b[1;32mc:\\users\\zakeri\\documents\\github\\message_ix\\message_ix\\core.py\u001b[0m in \u001b[0;36msolve\u001b[1;34m(self, model, solve_options, **kwargs)\u001b[0m\n\u001b[0;32m    564\u001b[0m             \u001b[1;33m:\u001b[0m\u001b[1;32mclass\u001b[0m\u001b[1;33m:\u001b[0m\u001b[0;31m`\u001b[0m\u001b[1;33m.\u001b[0m\u001b[0mGAMSModel\u001b[0m\u001b[0;31m`\u001b[0m\u001b[1;33m.\u001b[0m\u001b[1;33m\u001b[0m\u001b[1;33m\u001b[0m\u001b[0m\n\u001b[0;32m    565\u001b[0m         \"\"\"\n\u001b[1;32m--> 566\u001b[1;33m         \u001b[0msuper\u001b[0m\u001b[1;33m(\u001b[0m\u001b[1;33m)\u001b[0m\u001b[1;33m.\u001b[0m\u001b[0msolve\u001b[0m\u001b[1;33m(\u001b[0m\u001b[0mmodel\u001b[0m\u001b[1;33m=\u001b[0m\u001b[0mmodel\u001b[0m\u001b[1;33m,\u001b[0m \u001b[0msolve_options\u001b[0m\u001b[1;33m=\u001b[0m\u001b[0msolve_options\u001b[0m\u001b[1;33m,\u001b[0m \u001b[1;33m**\u001b[0m\u001b[0mkwargs\u001b[0m\u001b[1;33m)\u001b[0m\u001b[1;33m\u001b[0m\u001b[1;33m\u001b[0m\u001b[0m\n\u001b[0m\u001b[0;32m    567\u001b[0m \u001b[1;33m\u001b[0m\u001b[0m\n\u001b[0;32m    568\u001b[0m     \u001b[1;32mdef\u001b[0m \u001b[0madd_macro\u001b[0m\u001b[1;33m(\u001b[0m\u001b[0mself\u001b[0m\u001b[1;33m,\u001b[0m \u001b[0mdata\u001b[0m\u001b[1;33m,\u001b[0m \u001b[0mscenario\u001b[0m\u001b[1;33m=\u001b[0m\u001b[1;32mNone\u001b[0m\u001b[1;33m,\u001b[0m \u001b[0mcheck_convergence\u001b[0m\u001b[1;33m=\u001b[0m\u001b[1;32mTrue\u001b[0m\u001b[1;33m,\u001b[0m \u001b[1;33m**\u001b[0m\u001b[0mkwargs\u001b[0m\u001b[1;33m)\u001b[0m\u001b[1;33m:\u001b[0m\u001b[1;33m\u001b[0m\u001b[1;33m\u001b[0m\u001b[0m\n",
      "\u001b[1;32mc:\\users\\zakeri\\documents\\github\\ixmp\\ixmp\\core\\scenario.py\u001b[0m in \u001b[0;36msolve\u001b[1;34m(self, model, callback, cb_kwargs, **model_options)\u001b[0m\n\u001b[0;32m    834\u001b[0m         \u001b[1;31m# Iterate until convergence\u001b[0m\u001b[1;33m\u001b[0m\u001b[1;33m\u001b[0m\u001b[1;33m\u001b[0m\u001b[0m\n\u001b[0;32m    835\u001b[0m         \u001b[1;32mwhile\u001b[0m \u001b[1;32mTrue\u001b[0m\u001b[1;33m:\u001b[0m\u001b[1;33m\u001b[0m\u001b[1;33m\u001b[0m\u001b[0m\n\u001b[1;32m--> 836\u001b[1;33m             \u001b[0mmodel_obj\u001b[0m\u001b[1;33m.\u001b[0m\u001b[0mrun\u001b[0m\u001b[1;33m(\u001b[0m\u001b[0mself\u001b[0m\u001b[1;33m)\u001b[0m\u001b[1;33m\u001b[0m\u001b[1;33m\u001b[0m\u001b[0m\n\u001b[0m\u001b[0;32m    837\u001b[0m \u001b[1;33m\u001b[0m\u001b[0m\n\u001b[0;32m    838\u001b[0m             \u001b[1;31m# Store an iteration number to help the callback\u001b[0m\u001b[1;33m\u001b[0m\u001b[1;33m\u001b[0m\u001b[1;33m\u001b[0m\u001b[0m\n",
      "\u001b[1;32mc:\\users\\zakeri\\documents\\github\\ixmp\\ixmp\\model\\gams.py\u001b[0m in \u001b[0;36mrun\u001b[1;34m(self, scenario)\u001b[0m\n\u001b[0;32m    294\u001b[0m         \u001b[1;32mexcept\u001b[0m \u001b[0mCalledProcessError\u001b[0m \u001b[1;32mas\u001b[0m \u001b[0mexc\u001b[0m\u001b[1;33m:\u001b[0m\u001b[1;33m\u001b[0m\u001b[1;33m\u001b[0m\u001b[0m\n\u001b[0;32m    295\u001b[0m             \u001b[1;31m# Do not remove self.temp_dir; the user may want to inspect the GDX file\u001b[0m\u001b[1;33m\u001b[0m\u001b[1;33m\u001b[0m\u001b[1;33m\u001b[0m\u001b[0m\n\u001b[1;32m--> 296\u001b[1;33m             \u001b[1;32mraise\u001b[0m \u001b[0mself\u001b[0m\u001b[1;33m.\u001b[0m\u001b[0mformat_exception\u001b[0m\u001b[1;33m(\u001b[0m\u001b[0mexc\u001b[0m\u001b[1;33m,\u001b[0m \u001b[0mmodel_file\u001b[0m\u001b[1;33m)\u001b[0m \u001b[1;32mfrom\u001b[0m \u001b[1;32mNone\u001b[0m\u001b[1;33m\u001b[0m\u001b[1;33m\u001b[0m\u001b[0m\n\u001b[0m\u001b[0;32m    297\u001b[0m \u001b[1;33m\u001b[0m\u001b[0m\n\u001b[0;32m    298\u001b[0m         \u001b[1;31m# Read model solution\u001b[0m\u001b[1;33m\u001b[0m\u001b[1;33m\u001b[0m\u001b[1;33m\u001b[0m\u001b[0m\n",
      "\u001b[1;31mModelError\u001b[0m: GAMS errored with return code 6:\n    There was a parameter error\n\nFor details, see the terminal output above, plus:\nInput data: C:\\Temp\\tmprq_hxnqg\\default_in.gdx"
     ]
    }
   ],
   "source": [
    "# Solving the scenario (may up to 3 minutes)\n",
    "casename = ('_').join([base.model, base.scenario, str(base.version)])\n",
    "base.solve(casename, solve_options={'lpmethod': '4'})"
   ]
  },
  {
   "cell_type": "code",
   "execution_count": null,
   "metadata": {},
   "outputs": [],
   "source": [
    "# See the version of this scenario in your database\n",
    "base.version"
   ]
  },
  {
   "cell_type": "markdown",
   "metadata": {},
   "source": [
    "## 4.1. Visualizing output results\n",
    "In this part, we can visualize some output results both on the sub-annual and yearly basis."
   ]
  },
  {
   "cell_type": "code",
   "execution_count": null,
   "metadata": {},
   "outputs": [],
   "source": [
    "# Monthly results\n",
    "path = r'C:\\Users\\zakeri\\Documents\\Github\\central-asia-storage'\n",
    "node = \"TJK\"   # Tajikistan\n",
    "monthly_plot(base, path + \"//data//results\", node)"
   ]
  },
  {
   "cell_type": "code",
   "execution_count": null,
   "metadata": {},
   "outputs": [],
   "source": [
    "# Yearly results for activity (electricity generation)\n",
    "yearly_plot(base, path + \"//data/results\")"
   ]
  },
  {
   "cell_type": "code",
   "execution_count": null,
   "metadata": {},
   "outputs": [],
   "source": [
    "# Close the databse at the end of your work\n",
    "mp.close_db()"
   ]
  }
 ],
 "metadata": {
  "kernelspec": {
   "display_name": "Python 3",
   "language": "python",
   "name": "python3"
  },
  "language_info": {
   "codemirror_mode": {
    "name": "ipython",
    "version": 3
   },
   "file_extension": ".py",
   "mimetype": "text/x-python",
   "name": "python",
   "nbconvert_exporter": "python",
   "pygments_lexer": "ipython3",
   "version": "3.7.6"
  }
 },
 "nbformat": 4,
 "nbformat_minor": 2
}
